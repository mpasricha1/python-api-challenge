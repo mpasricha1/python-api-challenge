{
 "cells": [
  {
   "cell_type": "markdown",
   "metadata": {},
   "source": [
    "<h1>Analysis</h1>\n",
    "<h2></h2>\n",
    "\n",
    "</p>It is pretty clear from the data that there is a strong correlation between tempature and latitue.\n",
    "    as expected there are higher tempatures the closer to the equator and lower temperatures the farther \n",
    "    away we get from the equator in either direction. Although there is a sharper decline the further south we go \n",
    "    and not as much in the northern hemisphere the further north we go</p> \n",
    "<img src=\"Temp_plot.png\" alt=\"Temperature Plot\">\n",
    "\n",
    "<h2></h2>\n",
    "<p>According to the data, latitude plays almost no part in how cloudy it is. There seems to be cloudiness all over the world \n",
    "   no matter what latitude you are at.</p>\n",
    "<img src=\"Cloudiness_plot.png\" alt=\"Cloudiness Plot\">\n",
    "\n",
    "<h2></h2> \n",
    "<p>Humidity and latitude have a pretty weak correlation. Humidity around the world seems to be pretty high. Though around the \n",
    "  equator seems to be the least humid places dispite being a higher temperature then everywhere else in the world</p>\n",
    "<img src=\"Humidity_plot.png\" alt=\"Humidty Plot\">\n",
    "  "
   ]
  },
  {
   "cell_type": "code",
   "execution_count": null,
   "metadata": {},
   "outputs": [],
   "source": [
    "# WeatherPy\n",
    "----\n",
    "\n",
    "#### Note\n",
    "* Instructions have been included for each segment. You do not have to follow them exactly, but they are included to help you think through the steps."
   ]
  },
  {
   "cell_type": "code",
   "execution_count": null,
   "metadata": {
    "scrolled": true
   },
   "outputs": [],
   "source": [
    "# Dependencies and Setup\n",
    "import matplotlib.pyplot as plt\n",
    "import pandas as pd\n",
    "import numpy as np\n",
    "import requests\n",
    "import time\n",
    "from scipy.stats import linregress\n",
    "from pprint import pprint\n",
    "from datetime import datetime\n",
    "\n",
    "# Import API key\n",
    "from api_keys import weather_api_key\n",
    "\n",
    "# Incorporated citipy to determine city based on latitude and longitude\n",
    "from citipy import citipy\n",
    "\n",
    "# Output File (CSV)\n",
    "output_data_file = \"output_data/cities.csv\"\n",
    "\n",
    "# Range of latitudes and longitudes\n",
    "lat_range = (-90, 90)\n",
    "lng_range = (-180, 180)"
   ]
  },
  {
   "cell_type": "markdown",
   "metadata": {},
   "source": [
    "## Generate Cities List"
   ]
  },
  {
   "cell_type": "code",
   "execution_count": null,
   "metadata": {},
   "outputs": [],
   "source": [
    "# List for holding lat_lngs and cities\n",
    "lat_lngs = []\n",
    "cities = []\n",
    "\n",
    "# Create a set of random lat and lng combinations\n",
    "lats = np.random.uniform(lat_range[0], lat_range[1], size=1500)\n",
    "lngs = np.random.uniform(lng_range[0], lng_range[1], size=1500)\n",
    "lat_lngs = zip(lats, lngs)\n",
    "\n",
    "# Identify nearest city for each lat, lng combination\n",
    "for lat_lng in lat_lngs:\n",
    "    city = citipy.nearest_city(lat_lng[0], lat_lng[1]).city_name\n",
    "    \n",
    "    # If the city is unique, then add it to a our cities list\n",
    "    if city not in cities:\n",
    "        cities.append(city)\n",
    "\n",
    "# Print the city count to confirm sufficient count\n",
    "len(cities)"
   ]
  },
  {
   "cell_type": "markdown",
   "metadata": {},
   "source": [
    "## Perform API Calls\n",
    "* Perform a weather check on each city using a series of successive API calls.\n",
    "* Include a print log of each city as it'being processed (with the city number and city name).\n"
   ]
  },
  {
   "cell_type": "code",
   "execution_count": null,
   "metadata": {
    "scrolled": true
   },
   "outputs": [],
   "source": [
    "query_url = \"http://api.openweathermap.org/data/2.5/weather?appid=\" + weather_api_key + \"&units=imperial\" + \"&q=\"\n",
    "\n",
    "tempList = []\n",
    "humList = [] \n",
    "cloudList = []\n",
    "latList = []\n",
    "longList = []\n",
    "windList = []\n",
    "countryList = []\n",
    "cityList = []\n",
    "dateList = []\n",
    "\n",
    "\n",
    "for city in cities:\n",
    "    response = requests.get(query_url + city).json()\n",
    "    \n",
    "    try:\n",
    "        print(f'Gathering Data for {city} with ID {response[\"id\"]}')\n",
    "        tempList.append(response[\"main\"][\"temp_max\"])\n",
    "        humList.append(response[\"main\"][\"humidity\"])\n",
    "        cloudList.append(response[\"clouds\"][\"all\"])\n",
    "        latList.append(response[\"coord\"][\"lat\"])\n",
    "        longList.append(response[\"coord\"][\"lon\"])\n",
    "        windList.append(response[\"wind\"][\"speed\"])\n",
    "        countryList.append(response[\"sys\"][\"country\"])\n",
    "        cityList.append(response[\"name\"])\n",
    "        dateList.append(response[\"dt\"])\n",
    "                           \n",
    "    except KeyError as e:\n",
    "        print(f\"City Not Found: {city}\")\n",
    "    pass\n",
    "\n"
   ]
  },
  {
   "cell_type": "markdown",
   "metadata": {},
   "source": [
    "### Convert Raw Data to DataFrame\n",
    "* Export the city data into a .csv.\n",
    "* Display the DataFrame"
   ]
  },
  {
   "cell_type": "code",
   "execution_count": null,
   "metadata": {},
   "outputs": [],
   "source": []
  },
  {
   "cell_type": "code",
   "execution_count": null,
   "metadata": {
    "scrolled": false
   },
   "outputs": [],
   "source": [
    "weather_dict = {\"City\": cityList, \n",
    "                \"Country\": countryList, \n",
    "                \"Temp\": tempList, \n",
    "                \"Humidity\": humList, \n",
    "                \"Lat\": latList, \n",
    "                \"Long\": longList, \n",
    "                \"Cloud\": cloudList, \n",
    "                \"Wind\": windList, \n",
    "                \"Date\": dateList\n",
    "                }\n",
    "weather_df = pd.DataFrame(weather_dict)\n",
    "weather_df.to_csv(\"Output/weather_data.csv\")\n",
    "weather_df.head(500)"
   ]
  },
  {
   "cell_type": "code",
   "execution_count": null,
   "metadata": {},
   "outputs": [],
   "source": []
  },
  {
   "cell_type": "markdown",
   "metadata": {},
   "source": [
    "## Inspect the data and remove the cities where the humidity > 100%.\n",
    "----\n",
    "Skip this step if there are no cities that have humidity > 100%. "
   ]
  },
  {
   "cell_type": "code",
   "execution_count": null,
   "metadata": {},
   "outputs": [],
   "source": [
    "\n"
   ]
  },
  {
   "cell_type": "code",
   "execution_count": null,
   "metadata": {},
   "outputs": [],
   "source": [
    "#  Get the indices of cities that have humidity over 100%.\n",
    "badHumidity = weather_df.loc[weather_df[\"Humidity\"] > 100 ]\n",
    "badHumidity\n"
   ]
  },
  {
   "cell_type": "code",
   "execution_count": null,
   "metadata": {},
   "outputs": [],
   "source": [
    "# Make a new DataFrame equal to the city data to drop all humidity outliers by index.\n",
    "# Passing \"inplace=False\" will make a copy of the city_data DataFrame, which we call \"clean_city_data\".\n"
   ]
  },
  {
   "cell_type": "code",
   "execution_count": null,
   "metadata": {},
   "outputs": [],
   "source": [
    "# Extract relevant fields from the data frame\n",
    "\n",
    "\n",
    "# Export the City_Data into a csv\n"
   ]
  },
  {
   "cell_type": "markdown",
   "metadata": {},
   "source": [
    "## Plotting the Data\n",
    "* Use proper labeling of the plots using plot titles (including date of analysis) and axes labels.\n",
    "* Save the plotted figures as .pngs."
   ]
  },
  {
   "cell_type": "markdown",
   "metadata": {},
   "source": [
    "## Latitude vs. Temperature Plot"
   ]
  },
  {
   "cell_type": "code",
   "execution_count": null,
   "metadata": {
    "scrolled": true
   },
   "outputs": [],
   "source": [
    "plt.scatter(weather_df[\"Lat\"], weather_df[\"Temp\"])\n",
    "plt.xlabel(\"Latitude\")\n",
    "plt.ylabel(\"Temperature (F)\")\n",
    "plt.title(f'Latitude vs Temperature {datetime.now().strftime(\"%Y-%m-%d\")}')\n",
    "plt.savefig(\"Temp_plot.png\")\n",
    "plt.show()\n"
   ]
  },
  {
   "cell_type": "markdown",
   "metadata": {},
   "source": [
    "## Latitude vs. Humidity Plot"
   ]
  },
  {
   "cell_type": "code",
   "execution_count": null,
   "metadata": {},
   "outputs": [],
   "source": [
    "plt.scatter(weather_df[\"Lat\"], weather_df[\"Humidity\"])\n",
    "plt.xlabel(\"Latitude\")\n",
    "plt.ylabel(\"Humidity\")\n",
    "plt.title(f'Latitude vs Humidity {datetime.now().strftime(\"%Y-%m-%d\")}')\n",
    "plt.savefig(\"Humidity_plot.png\")\n",
    "plt.show()"
   ]
  },
  {
   "cell_type": "markdown",
   "metadata": {},
   "source": [
    "## Latitude vs. Cloudiness Plot"
   ]
  },
  {
   "cell_type": "code",
   "execution_count": null,
   "metadata": {},
   "outputs": [],
   "source": [
    "plt.scatter(weather_df[\"Lat\"], weather_df[\"Cloud\"])\n",
    "plt.xlabel(\"Latitude\")\n",
    "plt.ylabel(\"Cloudiness\")\n",
    "plt.title(f'Latitude vs Cloudiness {datetime.now().strftime(\"%Y-%m-%d\")}')\n",
    "plt.savefig(\"Cloudiness_plot.png\")\n",
    "plt.show()"
   ]
  },
  {
   "cell_type": "markdown",
   "metadata": {},
   "source": [
    "## Latitude vs. Wind Speed Plot"
   ]
  },
  {
   "cell_type": "code",
   "execution_count": null,
   "metadata": {},
   "outputs": [],
   "source": [
    "plt.scatter(weather_df[\"Lat\"], weather_df[\"Wind\"])\n",
    "plt.xlabel(\"Latitude\")\n",
    "plt.ylabel(\"Wind Speed\")\n",
    "plt.title(f'Latitude vs Wind Speed {datetime.now().strftime(\"%Y-%m-%d\")}')\n",
    "plt.savefig(\"Wind_Plot.png\")\n",
    "plt.show()"
   ]
  },
  {
   "cell_type": "markdown",
   "metadata": {},
   "source": [
    "## Linear Regression"
   ]
  },
  {
   "cell_type": "code",
   "execution_count": null,
   "metadata": {},
   "outputs": [],
   "source": [
    "# OPTIONAL: Create a function to create Linear Regression plots\n",
    "def plotLinRegress(val1, lat, xlabel, ylabel,title): \n",
    "    (slope, intercept, rvalue, pvalue, stderr) = linregress(lat,val1)\n",
    "    regress_values = val1 * slope + intercept\n",
    "    line_eq = \"y = \" + str(round(slope,2)) + \"x + \" + str(round(intercept,2))\n",
    "    plt.scatter(lat, val1)\n",
    "    plt.plot(val1, regress_values, \"r-\")\n",
    "    plt.xlabel(xlabel)\n",
    "    plt.ylabel(ylabel)\n",
    "    plt.title(title)\n",
    "    plt.show()\n",
    "    \n",
    "\n",
    "    "
   ]
  },
  {
   "cell_type": "code",
   "execution_count": null,
   "metadata": {},
   "outputs": [],
   "source": [
    "# Create Northern and Southern Hemisphere DataFrames\n",
    "northernhem_df = weather_df.loc[weather_df[\"Lat\"] > 0]\n",
    "southernhem_df = weather_df.loc[weather_df[\"Lat\"] < 0]\n",
    "#northernhem_df\n",
    "southernhem_df"
   ]
  },
  {
   "cell_type": "markdown",
   "metadata": {},
   "source": [
    "##  Northern Hemisphere - Max Temp vs. Latitude Linear Regression"
   ]
  },
  {
   "cell_type": "code",
   "execution_count": null,
   "metadata": {},
   "outputs": [],
   "source": [
    "xlabel = \"Latitude\"\n",
    "ylabel = \"Max Temp\"\n",
    "title = \"Northern Hemisphere - Max Temp vs Latitude Linear Regression\"\n",
    "MaxTemp = northernhem_df[\"Temp\"]\n",
    "Lat = northernhem_df[\"Lat\"]\n",
    "plt.savefig(\"NH_max_regress.png\")\n",
    "\n",
    "plotLinRegress(MaxTemp,Lat,xlabel,ylabel, title )\n"
   ]
  },
  {
   "cell_type": "markdown",
   "metadata": {},
   "source": [
    "####  Southern Hemisphere - Max Temp vs. Latitude Linear Regression"
   ]
  },
  {
   "cell_type": "code",
   "execution_count": null,
   "metadata": {},
   "outputs": [],
   "source": [
    "title = \"Southern Hemisphere - Max Temp vs Latitude Linear Regression\"\n",
    "MaxTemp = southernhem_df[\"Temp\"]\n",
    "Lat = southernhem_df[\"Lat\"]\n",
    "plt.savefig(\"SH_max_regress.png\")\n",
    "\n",
    "\n",
    "plotLinRegress(MaxTemp,Lat,xlabel,ylabel, title )\n"
   ]
  },
  {
   "cell_type": "markdown",
   "metadata": {},
   "source": [
    "####  Northern Hemisphere - Humidity (%) vs. Latitude Linear Regression"
   ]
  },
  {
   "cell_type": "code",
   "execution_count": null,
   "metadata": {},
   "outputs": [],
   "source": [
    "ylabel = 'Humidity (%)'\n",
    "title = \"Northern Hemisphere - Humidity (%) vs Latitue Linear Regression\"\n",
    "nHumidity = northernhem_df[\"Humidity\"]\n",
    "Lat = northernhem_df[\"Lat\"]\n",
    "plt.savefig(\"NH_hum_regress.png\")\n",
    "\n",
    "\n",
    "plotLinRegress(nHumidity,Lat,xlabel,ylabel, title )"
   ]
  },
  {
   "cell_type": "markdown",
   "metadata": {},
   "source": [
    "####  Southern Hemisphere - Humidity (%) vs. Latitude Linear Regression"
   ]
  },
  {
   "cell_type": "code",
   "execution_count": null,
   "metadata": {},
   "outputs": [],
   "source": [
    "ylabel = 'Humidity (%)'\n",
    "title = \"Southern Hemisphere - Humidity (%) vs Latitue Linear Regression\"\n",
    "Humidity = southernhem_df[\"Humidity\"]\n",
    "Lat = southernhem_df[\"Lat\"]\n",
    "plt.savefig(\"SH_hum_regress.png\")\n",
    "\n",
    "\n",
    "plotLinRegress(Humidity,Lat,xlabel,ylabel, title )"
   ]
  },
  {
   "cell_type": "markdown",
   "metadata": {},
   "source": [
    "####  Northern Hemisphere - Cloudiness (%) vs. Latitude Linear Regression"
   ]
  },
  {
   "cell_type": "code",
   "execution_count": null,
   "metadata": {},
   "outputs": [],
   "source": [
    "ylabel = 'Cloudiness (%)'\n",
    "title = \"Northern Hemisphere - Cloudiness (%) vs Latitue Linear Regression\"\n",
    "Humidity = northernhem_df[\"Humidity\"]\n",
    "Lat = northernhem_df[\"Lat\"]\n",
    "plt.savefig(\"NH_cloud_regress.png\")\n",
    "\n",
    "\n",
    "plotLinRegress(Humidity,Lat,xlabel,ylabel, title )"
   ]
  },
  {
   "cell_type": "markdown",
   "metadata": {},
   "source": [
    "####  Southern Hemisphere - Cloudiness (%) vs. Latitude Linear Regression"
   ]
  },
  {
   "cell_type": "code",
   "execution_count": null,
   "metadata": {},
   "outputs": [],
   "source": [
    "ylabel = 'Cloudiness (%)'\n",
    "\n",
    "title = \"Southern Hemisphere - Humidity (%) vs Latitue Linear Regression\"\n",
    "Humidity = southernhem_df[\"Humidity\"]\n",
    "Lat = southernhem_df[\"Lat\"]\n",
    "plt.savefig(\"SH_cloud_regress.png\")\n",
    "\n",
    "\n",
    "plotLinRegress(Humidity,Lat,xlabel,ylabel, title )"
   ]
  },
  {
   "cell_type": "markdown",
   "metadata": {},
   "source": [
    "####  Northern Hemisphere - Wind Speed (mph) vs. Latitude Linear Regression"
   ]
  },
  {
   "cell_type": "code",
   "execution_count": null,
   "metadata": {},
   "outputs": [],
   "source": [
    "ylabel = 'Wind (mph)'\n",
    "xlabel = \"Latitude\"\n",
    "title = \"Northern Hemisphere - Wind Speed (mph) vs Latitude Linear Regression\"\n",
    "Wind = northernhem_df[\"Wind\"]\n",
    "Lat = northernhem_df[\"Lat\"]\n",
    "plt.savefig(\"NH_wind_regress.png\")\n",
    "\n",
    "\n",
    "plotLinRegress(Wind,Lat,xlabel,ylabel, title )"
   ]
  },
  {
   "cell_type": "markdown",
   "metadata": {},
   "source": [
    "####  Southern Hemisphere - Wind Speed (mph) vs. Latitude Linear Regression"
   ]
  },
  {
   "cell_type": "code",
   "execution_count": null,
   "metadata": {},
   "outputs": [],
   "source": [
    "ylabel = 'Wind (mph)'\n",
    "\n",
    "title = \"Southern Hemisphere - Wind Speed (mph) vs Latitue Linear Regression\"\n",
    "Wind = southernhem_df[\"Wind\"]\n",
    "Lat = southernhem_df[\"Lat\"]\n",
    "plt.savefig(\"NH_wind_regress.png\")\n",
    "\n",
    "plotLinRegress(Wind,Lat,xlabel,ylabel, title )"
   ]
  },
  {
   "cell_type": "code",
   "execution_count": null,
   "metadata": {},
   "outputs": [],
   "source": []
  }
 ],
 "metadata": {
  "anaconda-cloud": {},
  "kernel_info": {
   "name": "python3"
  },
  "kernelspec": {
   "display_name": "Python 3",
   "language": "python",
   "name": "python3"
  },
  "language_info": {
   "codemirror_mode": {
    "name": "ipython",
    "version": 3
   },
   "file_extension": ".py",
   "mimetype": "text/x-python",
   "name": "python",
   "nbconvert_exporter": "python",
   "pygments_lexer": "ipython3",
   "version": "3.7.6"
  },
  "latex_envs": {
   "LaTeX_envs_menu_present": true,
   "autoclose": false,
   "autocomplete": true,
   "bibliofile": "biblio.bib",
   "cite_by": "apalike",
   "current_citInitial": 1,
   "eqLabelWithNumbers": true,
   "eqNumInitial": 1,
   "hotkeys": {
    "equation": "Ctrl-E",
    "itemize": "Ctrl-I"
   },
   "labels_anchors": false,
   "latex_user_defs": false,
   "report_style_numbering": false,
   "user_envs_cfg": false
  },
  "nteract": {
   "version": "0.12.3"
  }
 },
 "nbformat": 4,
 "nbformat_minor": 2
}
