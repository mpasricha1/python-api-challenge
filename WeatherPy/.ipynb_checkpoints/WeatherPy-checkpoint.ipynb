{
 "cells": [
  {
   "cell_type": "markdown",
   "metadata": {},
   "source": [
    "# WeatherPy\n",
    "----\n",
    "\n",
    "#### Note\n",
    "* Instructions have been included for each segment. You do not have to follow them exactly, but they are included to help you think through the steps."
   ]
  },
  {
   "cell_type": "code",
   "execution_count": 1,
   "metadata": {
    "scrolled": true
   },
   "outputs": [],
   "source": [
    "# Dependencies and Setup\n",
    "import matplotlib.pyplot as plt\n",
    "import pandas as pd\n",
    "import numpy as np\n",
    "import requests\n",
    "import time\n",
    "from scipy.stats import linregress\n",
    "from pprint import pprint\n",
    "from datetime import datetime as dt\n",
    "\n",
    "# Import API key\n",
    "from api_keys import weather_api_key\n",
    "\n",
    "# Incorporated citipy to determine city based on latitude and longitude\n",
    "from citipy import citipy\n",
    "\n",
    "# Output File (CSV)\n",
    "output_data_file = \"output_data/cities.csv\"\n",
    "\n",
    "# Range of latitudes and longitudes\n",
    "lat_range = (-90, 90)\n",
    "lng_range = (-180, 180)"
   ]
  },
  {
   "cell_type": "markdown",
   "metadata": {},
   "source": [
    "## Generate Cities List"
   ]
  },
  {
   "cell_type": "code",
   "execution_count": 2,
   "metadata": {},
   "outputs": [
    {
     "data": {
      "text/plain": [
       "596"
      ]
     },
     "execution_count": 2,
     "metadata": {},
     "output_type": "execute_result"
    }
   ],
   "source": [
    "# List for holding lat_lngs and cities\n",
    "lat_lngs = []\n",
    "cities = []\n",
    "\n",
    "# Create a set of random lat and lng combinations\n",
    "lats = np.random.uniform(lat_range[0], lat_range[1], size=1500)\n",
    "lngs = np.random.uniform(lng_range[0], lng_range[1], size=1500)\n",
    "lat_lngs = zip(lats, lngs)\n",
    "\n",
    "# Identify nearest city for each lat, lng combination\n",
    "for lat_lng in lat_lngs:\n",
    "    city = citipy.nearest_city(lat_lng[0], lat_lng[1]).city_name\n",
    "    \n",
    "    # If the city is unique, then add it to a our cities list\n",
    "    if city not in cities:\n",
    "        cities.append(city)\n",
    "\n",
    "# Print the city count to confirm sufficient count\n",
    "len(cities)"
   ]
  },
  {
   "cell_type": "markdown",
   "metadata": {},
   "source": [
    "## Perform API Calls\n",
    "* Perform a weather check on each city using a series of successive API calls.\n",
    "* Include a print log of each city as it'being processed (with the city number and city name).\n"
   ]
  },
  {
   "cell_type": "code",
   "execution_count": 22,
   "metadata": {
    "scrolled": true
   },
   "outputs": [
    {
     "name": "stdout",
     "output_type": "stream",
     "text": [
      "Gathering Data for vao with ID 2137773\n",
      "Gathering Data for ribeira grande with ID 3372707\n",
      "Gathering Data for port alfred with ID 964432\n",
      "Gathering Data for cape town with ID 3369157\n",
      "Gathering Data for kutum with ID 371745\n",
      "Gathering Data for ushuaia with ID 3833367\n",
      "Gathering Data for giyani with ID 1001860\n",
      "Gathering Data for udachnyy with ID 2014624\n",
      "City Not Found: taolanaro\n",
      "Gathering Data for ilulissat with ID 3423146\n",
      "Gathering Data for grootfontein with ID 3357114\n",
      "Gathering Data for springdale with ID 4132093\n",
      "Gathering Data for kavaratti with ID 1267390\n",
      "Gathering Data for komsomolskiy with ID 1513491\n",
      "Gathering Data for abalak with ID 1512223\n",
      "City Not Found: kollumerland\n",
      "Gathering Data for san cristobal with ID 3628473\n",
      "City Not Found: tsihombe\n",
      "City Not Found: grand river south east\n",
      "City Not Found: belushya guba\n",
      "Gathering Data for saint-philippe with ID 935215\n",
      "Gathering Data for east london with ID 1006984\n",
      "Gathering Data for katsuura with ID 2112309\n",
      "Gathering Data for tungawan with ID 1680677\n",
      "Gathering Data for busselton with ID 2075265\n",
      "Gathering Data for yellowknife with ID 6185377\n",
      "Gathering Data for codrington with ID 2171099\n",
      "Gathering Data for severo-kurilsk with ID 2121385\n",
      "Gathering Data for naples with ID 3172394\n",
      "Gathering Data for butembo with ID 217562\n",
      "Gathering Data for kavieng with ID 2094342\n",
      "Gathering Data for mattru with ID 2409215\n",
      "Gathering Data for port hardy with ID 6111862\n",
      "Gathering Data for hobart with ID 2163355\n",
      "Gathering Data for la rioja with ID 3336897\n",
      "Gathering Data for paita with ID 3694112\n",
      "Gathering Data for barrow with ID 5880054\n",
      "City Not Found: nizhneyansk\n",
      "City Not Found: vaitupu\n",
      "Gathering Data for road town with ID 3577430\n",
      "Gathering Data for bengkulu with ID 1649150\n",
      "Gathering Data for newport with ID 2641598\n",
      "Gathering Data for nanortalik with ID 3421765\n",
      "Gathering Data for waitati with ID 2179825\n",
      "Gathering Data for georgetown with ID 1735106\n",
      "City Not Found: illoqqortoormiut\n",
      "Gathering Data for grindavik with ID 3416888\n",
      "Gathering Data for pangnirtung with ID 6096551\n",
      "Gathering Data for bethel with ID 5282297\n",
      "Gathering Data for aktas with ID 1526619\n",
      "Gathering Data for talnakh with ID 1490256\n",
      "Gathering Data for dikson with ID 1507390\n",
      "Gathering Data for preobrazheniye with ID 2017658\n",
      "Gathering Data for halifax with ID 6324729\n",
      "Gathering Data for churapcha with ID 2025241\n",
      "Gathering Data for souillac with ID 933995\n",
      "Gathering Data for vardo with ID 777019\n",
      "Gathering Data for vaini with ID 4032243\n",
      "Gathering Data for rikitea with ID 4030556\n",
      "Gathering Data for atuona with ID 4020109\n",
      "Gathering Data for nieuw amsterdam with ID 3383434\n",
      "Gathering Data for broken hill with ID 2173911\n",
      "City Not Found: keshan\n",
      "Gathering Data for almenara with ID 3472520\n",
      "Gathering Data for kahului with ID 5847411\n",
      "Gathering Data for ancud with ID 3899695\n",
      "Gathering Data for lagoa with ID 3372964\n",
      "Gathering Data for rawah with ID 92004\n",
      "Gathering Data for uinskoye with ID 479442\n",
      "Gathering Data for hofn with ID 2630299\n",
      "Gathering Data for robertsport with ID 2274275\n",
      "Gathering Data for mataura with ID 6201424\n",
      "Gathering Data for nemuro with ID 2128975\n",
      "Gathering Data for provideniya with ID 4031574\n",
      "Gathering Data for odesa with ID 698740\n",
      "Gathering Data for lebu with ID 3883457\n",
      "Gathering Data for bluff with ID 2206939\n",
      "Gathering Data for oranjemund with ID 3354071\n",
      "Gathering Data for mar del plata with ID 3430863\n",
      "Gathering Data for tasiilaq with ID 3424607\n",
      "Gathering Data for mulanje with ID 925789\n",
      "Gathering Data for torbat-e jam with ID 1159362\n",
      "Gathering Data for mahebourg with ID 934322\n",
      "Gathering Data for prince albert with ID 6113335\n",
      "Gathering Data for mandalgovi with ID 2030065\n",
      "Gathering Data for novobirilyussy with ID 1508260\n",
      "Gathering Data for chuy with ID 3443061\n",
      "Gathering Data for iqaluit with ID 5983720\n",
      "Gathering Data for tukan with ID 480637\n",
      "Gathering Data for ponta delgada with ID 3372783\n",
      "Gathering Data for soe with ID 1626703\n",
      "Gathering Data for makakilo city with ID 5850554\n",
      "Gathering Data for kodiak with ID 5866583\n",
      "Gathering Data for sonoita with ID 3982837\n",
      "Gathering Data for shimanovsk with ID 2016701\n",
      "Gathering Data for saint albans with ID 2638867\n",
      "Gathering Data for akdepe with ID 601551\n",
      "Gathering Data for avarua with ID 4035715\n",
      "Gathering Data for punta arenas with ID 3874787\n",
      "Gathering Data for chapais with ID 5919850\n",
      "Gathering Data for miyako with ID 2111884\n",
      "Gathering Data for kontagora with ID 2334008\n",
      "City Not Found: saleaula\n",
      "Gathering Data for hilo with ID 5855927\n",
      "Gathering Data for gao with ID 2457161\n",
      "Gathering Data for axim with ID 2303611\n",
      "Gathering Data for lishui with ID 1803245\n",
      "Gathering Data for pisco with ID 3932145\n",
      "Gathering Data for airai with ID 1651810\n",
      "City Not Found: phan rang\n",
      "Gathering Data for husavik with ID 2629833\n",
      "Gathering Data for kruisfontein with ID 986717\n",
      "City Not Found: sentyabrskiy\n",
      "Gathering Data for takaka with ID 2181997\n",
      "Gathering Data for albany with ID 5106841\n",
      "Gathering Data for aswan with ID 359792\n",
      "Gathering Data for inuvik with ID 5983607\n",
      "Gathering Data for longyearbyen with ID 2729907\n",
      "Gathering Data for gizo with ID 2108857\n",
      "Gathering Data for coquimbo with ID 3893629\n",
      "Gathering Data for balkhash with ID 1525798\n",
      "Gathering Data for saint george with ID 5546220\n",
      "Gathering Data for taoudenni with ID 2450173\n",
      "Gathering Data for galway with ID 2964180\n",
      "City Not Found: amderma\n",
      "Gathering Data for naze with ID 1855540\n",
      "Gathering Data for bardiyah with ID 80509\n",
      "Gathering Data for carnarvon with ID 2074865\n",
      "Gathering Data for gabu with ID 2372532\n",
      "Gathering Data for lethem with ID 3379316\n",
      "Gathering Data for pafos with ID 146214\n",
      "Gathering Data for jamestown with ID 5122534\n",
      "Gathering Data for lavrentiya with ID 4031637\n",
      "Gathering Data for port lincoln with ID 2063036\n",
      "Gathering Data for klaksvik with ID 2618795\n",
      "Gathering Data for qaanaaq with ID 3831208\n",
      "Gathering Data for la ronge with ID 6050066\n",
      "Gathering Data for faya with ID 110690\n",
      "Gathering Data for qaqortoq with ID 3420846\n",
      "Gathering Data for san lorenzo with ID 3437056\n",
      "Gathering Data for puerto ayora with ID 3652764\n",
      "Gathering Data for flin flon with ID 5954718\n",
      "City Not Found: skalistyy\n",
      "Gathering Data for hambantota with ID 1244926\n",
      "Gathering Data for santa cruz with ID 3904906\n",
      "Gathering Data for smithers with ID 6149996\n",
      "City Not Found: karaul\n",
      "Gathering Data for new norfolk with ID 2155415\n",
      "Gathering Data for rauma with ID 639734\n",
      "City Not Found: barentsburg\n",
      "Gathering Data for thompson with ID 6165406\n",
      "Gathering Data for rawson with ID 3839307\n",
      "Gathering Data for butaritari with ID 2110227\n",
      "Gathering Data for chokurdakh with ID 2126123\n",
      "Gathering Data for castro with ID 3466704\n",
      "Gathering Data for pahrump with ID 5509851\n",
      "Gathering Data for torbay with ID 6167817\n",
      "Gathering Data for sao borja with ID 3449340\n",
      "Gathering Data for laem sing with ID 1609278\n",
      "Gathering Data for tateyama with ID 1850523\n",
      "Gathering Data for kapaa with ID 5848280\n",
      "Gathering Data for arraial do cabo with ID 3471451\n",
      "Gathering Data for port elizabeth with ID 964420\n",
      "Gathering Data for formosa with ID 3433899\n",
      "Gathering Data for labuhan with ID 8079926\n",
      "City Not Found: sataua\n",
      "Gathering Data for luderitz with ID 3355672\n",
      "Gathering Data for saskylakh with ID 2017155\n",
      "Gathering Data for ibra with ID 287832\n",
      "City Not Found: chagda\n",
      "Gathering Data for kaitangata with ID 2208248\n",
      "Gathering Data for tuktoyaktuk with ID 6170031\n",
      "Gathering Data for tukrah with ID 88834\n",
      "Gathering Data for constitucion with ID 3893726\n",
      "Gathering Data for leningradskiy with ID 2123814\n",
      "Gathering Data for clyde river with ID 5924351\n",
      "Gathering Data for arvika with ID 2725123\n",
      "Gathering Data for krasnyy chikoy with ID 2012349\n",
      "Gathering Data for cherskiy with ID 2126199\n",
      "Gathering Data for victoria with ID 1819729\n",
      "City Not Found: lolua\n",
      "Gathering Data for puerto ayacucho with ID 3629710\n",
      "Gathering Data for praia da vitoria with ID 3372760\n",
      "Gathering Data for san patricio with ID 3985168\n",
      "Gathering Data for mareeba with ID 2158767\n",
      "Gathering Data for norman wells with ID 6089245\n",
      "City Not Found: dzhusaly\n",
      "Gathering Data for taltal with ID 3870243\n",
      "Gathering Data for plettenberg bay with ID 964712\n",
      "City Not Found: samusu\n",
      "Gathering Data for bandarbeyla with ID 64814\n",
      "Gathering Data for geraldton with ID 2070998\n",
      "Gathering Data for belaya gora with ID 2126785\n",
      "Gathering Data for tuatapere with ID 2180815\n"
     ]
    },
    {
     "name": "stdout",
     "output_type": "stream",
     "text": [
      "Gathering Data for fortuna with ID 5563839\n",
      "Gathering Data for rio gallegos with ID 3838859\n",
      "Gathering Data for cidreira with ID 3466165\n",
      "Gathering Data for ahuimanu with ID 5856516\n",
      "Gathering Data for los llanos de aridane with ID 2514651\n",
      "Gathering Data for sindgi with ID 1256214\n",
      "Gathering Data for abu samrah with ID 172515\n",
      "Gathering Data for benghazi with ID 88319\n",
      "Gathering Data for salalah with ID 286621\n",
      "Gathering Data for narsaq with ID 3421719\n",
      "Gathering Data for wanaka with ID 2184707\n",
      "Gathering Data for jinchang with ID 1805733\n",
      "Gathering Data for pokrovsk with ID 704422\n",
      "Gathering Data for aykhal with ID 2027296\n",
      "Gathering Data for eureka with ID 5563397\n",
      "Gathering Data for touros with ID 3386213\n",
      "Gathering Data for brookhaven with ID 4419500\n",
      "Gathering Data for ugoofaaru with ID 1337619\n",
      "Gathering Data for zyryanka with ID 2119283\n",
      "Gathering Data for nikolskoye with ID 546105\n",
      "Gathering Data for hermanus with ID 3366880\n",
      "Gathering Data for bugama with ID 2324433\n",
      "Gathering Data for okhotsk with ID 2122605\n",
      "Gathering Data for cairns with ID 2172797\n",
      "Gathering Data for soyo with ID 2236967\n",
      "City Not Found: mys shmidta\n",
      "Gathering Data for toamasina with ID 1053384\n",
      "City Not Found: zolotinka\n",
      "Gathering Data for faanui with ID 4034551\n",
      "Gathering Data for ambon with ID 1651531\n",
      "City Not Found: mullaitivu\n",
      "Gathering Data for cartagena with ID 3687238\n",
      "Gathering Data for isparta with ID 311071\n",
      "Gathering Data for avera with ID 4231997\n",
      "Gathering Data for acajutla with ID 3587498\n",
      "Gathering Data for whitehorse with ID 6180550\n",
      "Gathering Data for san luis with ID 3837056\n",
      "City Not Found: attawapiskat\n",
      "Gathering Data for grand gaube with ID 934479\n",
      "Gathering Data for pinega with ID 509483\n",
      "Gathering Data for boa vista with ID 3664980\n",
      "Gathering Data for gboko with ID 2318374\n",
      "Gathering Data for sabha with ID 2212775\n",
      "Gathering Data for mbengwi with ID 2227853\n",
      "Gathering Data for simao with ID 1794209\n",
      "Gathering Data for ambilobe with ID 1082243\n",
      "Gathering Data for nuuk with ID 3421319\n",
      "Gathering Data for tenenkou with ID 2449938\n",
      "Gathering Data for dubti with ID 338554\n",
      "Gathering Data for harindanga with ID 1349090\n",
      "Gathering Data for spring hill with ID 4173838\n",
      "Gathering Data for tambopata with ID 3927942\n",
      "Gathering Data for bonavista with ID 5905393\n",
      "Gathering Data for trinidad with ID 3902377\n",
      "Gathering Data for bredasdorp with ID 1015776\n",
      "Gathering Data for vila franca do campo with ID 3372472\n",
      "Gathering Data for muyezerskiy with ID 524100\n",
      "City Not Found: jahrom\n",
      "Gathering Data for pecos with ID 5528182\n",
      "Gathering Data for upernavik with ID 3418910\n",
      "Gathering Data for moose factory with ID 6078372\n",
      "Gathering Data for nantucket with ID 4944903\n",
      "Gathering Data for te anau with ID 2181625\n",
      "Gathering Data for atyrau with ID 610529\n",
      "Gathering Data for khatanga with ID 2022572\n",
      "Gathering Data for dunedin with ID 2191562\n",
      "Gathering Data for kidal with ID 2455290\n",
      "Gathering Data for colesberg with ID 1013076\n",
      "Gathering Data for salinopolis with ID 3389822\n",
      "Gathering Data for flinders with ID 6255012\n",
      "Gathering Data for sao jose da coroa grande with ID 3388456\n",
      "City Not Found: kusk\n",
      "Gathering Data for vryburg with ID 942511\n",
      "Gathering Data for pochutla with ID 3517970\n",
      "Gathering Data for dhidhdhoo with ID 1337612\n",
      "Gathering Data for gisborne with ID 2206854\n",
      "Gathering Data for musoma with ID 152451\n",
      "Gathering Data for kieta with ID 2094027\n",
      "Gathering Data for olafsvik with ID 3414079\n",
      "Gathering Data for rapid valley with ID 5768244\n",
      "Gathering Data for tyret pervaya with ID 2014705\n",
      "Gathering Data for bondo with ID 218253\n",
      "Gathering Data for cockburn town with ID 3576994\n",
      "Gathering Data for jacqueville with ID 2287778\n",
      "Gathering Data for camopi with ID 3382226\n",
      "Gathering Data for vestmannaeyjar with ID 3412093\n",
      "Gathering Data for mount gambier with ID 2156643\n",
      "Gathering Data for lumeje with ID 876123\n",
      "Gathering Data for hami with ID 1529484\n",
      "Gathering Data for peniche with ID 2264923\n",
      "Gathering Data for progreso with ID 3521108\n",
      "Gathering Data for pervomayskoye with ID 797213\n",
      "Gathering Data for honiara with ID 2108502\n",
      "Gathering Data for petropavlovsk-kamchatskiy with ID 2122104\n",
      "Gathering Data for half moon bay with ID 5354943\n",
      "Gathering Data for buala with ID 2109528\n",
      "Gathering Data for qandala with ID 53157\n",
      "Gathering Data for pevek with ID 2122090\n",
      "Gathering Data for buin with ID 3897774\n",
      "Gathering Data for merauke with ID 2082539\n",
      "Gathering Data for north bend with ID 5742974\n",
      "Gathering Data for kijang with ID 1842966\n",
      "Gathering Data for tevaitoa with ID 4033375\n",
      "Gathering Data for inhambane with ID 1045114\n",
      "Gathering Data for saint stephen with ID 2638698\n",
      "Gathering Data for mehamn with ID 778707\n",
      "Gathering Data for nanga eboko with ID 2225457\n",
      "Gathering Data for rize with ID 740481\n",
      "Gathering Data for poso with ID 1630723\n",
      "Gathering Data for barth with ID 2952372\n",
      "City Not Found: balykshi\n",
      "Gathering Data for porto walter with ID 3662761\n",
      "Gathering Data for lensk with ID 2020838\n",
      "Gathering Data for ampanihy with ID 1078553\n",
      "Gathering Data for rocha with ID 3440777\n",
      "City Not Found: sumbawa\n",
      "Gathering Data for caiaponia with ID 3468234\n",
      "Gathering Data for oliveira with ID 3455908\n",
      "Gathering Data for bambous virieux with ID 1106677\n",
      "Gathering Data for adjumani with ID 235489\n",
      "Gathering Data for cayenne with ID 3382160\n",
      "Gathering Data for yulara with ID 6355222\n",
      "Gathering Data for mogadishu with ID 53654\n",
      "City Not Found: tumannyy\n",
      "City Not Found: puerto pinasco\n",
      "Gathering Data for tautira with ID 4033557\n",
      "City Not Found: afanasyevo\n",
      "Gathering Data for port hedland with ID 2063042\n",
      "Gathering Data for arman with ID 2127060\n",
      "Gathering Data for itupiranga with ID 3397851\n",
      "Gathering Data for inta with ID 1505579\n",
      "Gathering Data for beyla with ID 2423126\n",
      "Gathering Data for matara with ID 1235846\n",
      "City Not Found: cumaribo\n",
      "Gathering Data for kedgwick with ID 6942800\n",
      "Gathering Data for sao filipe with ID 3374210\n",
      "Gathering Data for kiruna with ID 605155\n",
      "City Not Found: urfa\n",
      "City Not Found: ngukurr\n",
      "Gathering Data for margate with ID 2643044\n",
      "Gathering Data for ixtapa with ID 4004293\n",
      "Gathering Data for matiguas with ID 3617694\n",
      "Gathering Data for namibe with ID 3347019\n",
      "Gathering Data for gwadar with ID 1177446\n",
      "Gathering Data for sokoni with ID 149812\n",
      "City Not Found: burica\n",
      "Gathering Data for maltahohe with ID 3355624\n",
      "Gathering Data for wanning with ID 1791779\n",
      "Gathering Data for abeche with ID 245785\n",
      "Gathering Data for tiksi with ID 2015306\n",
      "Gathering Data for bilibino with ID 2126682\n",
      "Gathering Data for porto novo with ID 2392087\n",
      "Gathering Data for amahai with ID 1651591\n",
      "Gathering Data for talcahuano with ID 3870282\n",
      "City Not Found: mrirt\n",
      "Gathering Data for paamiut with ID 3421193\n",
      "Gathering Data for baruun-urt with ID 2032614\n",
      "Gathering Data for henties bay with ID 3356832\n",
      "Gathering Data for isangel with ID 2136825\n",
      "Gathering Data for sao gabriel da cachoeira with ID 3662342\n",
      "Gathering Data for waingapu with ID 1622318\n",
      "Gathering Data for ulladulla with ID 2145554\n",
      "Gathering Data for sobradinho with ID 3447473\n",
      "Gathering Data for homer with ID 5864145\n",
      "Gathering Data for portland with ID 5746545\n",
      "Gathering Data for calama with ID 3897347\n",
      "Gathering Data for lompoc with ID 5367788\n",
      "Gathering Data for lorengau with ID 2092164\n",
      "Gathering Data for taga with ID 665628\n",
      "Gathering Data for carbonia with ID 2525362\n",
      "Gathering Data for atasu with ID 1526041\n",
      "Gathering Data for aksarka with ID 1512019\n",
      "Gathering Data for yar-sale with ID 1486321\n",
      "Gathering Data for vryheid with ID 942470\n",
      "Gathering Data for kampong chhnang with ID 1831166\n",
      "City Not Found: barbar\n",
      "Gathering Data for kabalo with ID 215668\n",
      "Gathering Data for dagua with ID 3685292\n",
      "Gathering Data for arroyo with ID 3129371\n",
      "Gathering Data for port-cartier with ID 6111696\n",
      "City Not Found: kamenskoye\n",
      "Gathering Data for shimoda with ID 1852357\n",
      "Gathering Data for svetlaya with ID 2015852\n",
      "City Not Found: meyungs\n",
      "Gathering Data for abha with ID 110690\n",
      "City Not Found: labutta\n",
      "Gathering Data for nouadhibou with ID 2377457\n",
      "Gathering Data for napasar with ID 1261882\n",
      "Gathering Data for sawtell with ID 2150163\n",
      "Gathering Data for tralee with ID 2961123\n",
      "City Not Found: bacuit\n",
      "Gathering Data for san lazaro with ID 3581514\n",
      "Gathering Data for luganville with ID 2136150\n",
      "Gathering Data for hithadhoo with ID 1282256\n",
      "Gathering Data for bhuj with ID 1275812\n",
      "Gathering Data for nyimba with ID 900056\n",
      "Gathering Data for ekangala with ID 1105726\n"
     ]
    },
    {
     "name": "stdout",
     "output_type": "stream",
     "text": [
      "Gathering Data for guerrero negro with ID 4021858\n",
      "Gathering Data for karratha with ID 6620339\n",
      "Gathering Data for kovernino with ID 543494\n",
      "Gathering Data for comodoro rivadavia with ID 3860443\n",
      "City Not Found: sansai\n",
      "Gathering Data for cap malheureux with ID 934649\n",
      "Gathering Data for mackay with ID 2159220\n",
      "Gathering Data for atar with ID 2381334\n",
      "Gathering Data for kolomak with ID 705403\n",
      "Gathering Data for virginia beach with ID 4791259\n",
      "Gathering Data for ayr with ID 2656708\n",
      "Gathering Data for atlantic city with ID 4500546\n",
      "Gathering Data for turayf with ID 101312\n",
      "Gathering Data for mahibadhoo with ID 1337605\n",
      "Gathering Data for saint-francois with ID 2980080\n",
      "City Not Found: palabuhanratu\n",
      "Gathering Data for guatire with ID 3639898\n",
      "Gathering Data for kalmunai with ID 1242110\n",
      "Gathering Data for peterhead with ID 2640351\n",
      "Gathering Data for launceston with ID 2160517\n",
      "Gathering Data for atherton with ID 2656847\n",
      "Gathering Data for kazerun with ID 128321\n",
      "Gathering Data for yenagoa with ID 2318123\n",
      "City Not Found: dianopolis\n",
      "Gathering Data for mindelo with ID 3374462\n",
      "Gathering Data for vanimo with ID 2084442\n",
      "Gathering Data for valparaiso with ID 3868626\n",
      "Gathering Data for chiredzi with ID 893485\n",
      "Gathering Data for frankfort with ID 1003764\n",
      "Gathering Data for lakes entrance with ID 2160735\n",
      "Gathering Data for chicama with ID 3698359\n",
      "Gathering Data for nadym with ID 1498087\n",
      "Gathering Data for susangerd with ID 137268\n",
      "Gathering Data for saravan with ID 174726\n",
      "Gathering Data for biltine with ID 244878\n",
      "Gathering Data for puerto madero with ID 3520989\n",
      "Gathering Data for esperance with ID 2071860\n",
      "City Not Found: qibili\n",
      "Gathering Data for krasnoselkup with ID 1502073\n",
      "Gathering Data for doka with ID 376332\n",
      "Gathering Data for mnogovershinnyy with ID 2019935\n",
      "Gathering Data for araouane with ID 2460954\n",
      "Gathering Data for mecca with ID 104515\n",
      "Gathering Data for cabo san lucas with ID 3985710\n",
      "Gathering Data for sandnessjoen with ID 3140301\n",
      "Gathering Data for santo domingo with ID 3492908\n",
      "Gathering Data for ilhabela with ID 3461425\n",
      "Gathering Data for algiers with ID 2507480\n",
      "Gathering Data for mitake with ID 1856938\n",
      "Gathering Data for sitka with ID 5557293\n",
      "Gathering Data for aklavik with ID 5882953\n",
      "City Not Found: karakendzha\n",
      "Gathering Data for vestmanna with ID 2610343\n",
      "Gathering Data for balao with ID 3660387\n",
      "Gathering Data for arlit with ID 2447513\n",
      "City Not Found: mahaicony\n",
      "Gathering Data for andenes with ID 3163146\n",
      "Gathering Data for oranjestad with ID 3577154\n",
      "Gathering Data for ahipara with ID 2194098\n",
      "Gathering Data for dingle with ID 1714733\n",
      "Gathering Data for russell with ID 4047434\n",
      "Gathering Data for cedar city with ID 5536630\n",
      "Gathering Data for san vicente with ID 3428068\n",
      "Gathering Data for lekoni with ID 2399831\n",
      "Gathering Data for pauini with ID 3662927\n",
      "Gathering Data for venice with ID 4176380\n",
      "Gathering Data for sept-iles with ID 6144312\n",
      "Gathering Data for muros with ID 3115824\n",
      "Gathering Data for bayir with ID 304183\n",
      "Gathering Data for dongsheng with ID 1812256\n",
      "Gathering Data for divnomorskoye with ID 566157\n",
      "Gathering Data for sorland with ID 3137469\n",
      "Gathering Data for bathsheba with ID 3374083\n",
      "Gathering Data for lata with ID 2738381\n",
      "Gathering Data for mayo with ID 4362001\n",
      "Gathering Data for antofagasta with ID 3899539\n",
      "Gathering Data for verkhoyansk with ID 2013465\n",
      "Gathering Data for nishihara with ID 1855342\n",
      "Gathering Data for lima with ID 3936456\n",
      "Gathering Data for dillon with ID 4576653\n",
      "Gathering Data for cocorit with ID 4013593\n",
      "Gathering Data for jijiga with ID 333795\n",
      "Gathering Data for emerald with ID 2167426\n",
      "Gathering Data for coihaique with ID 3894426\n",
      "Gathering Data for blackwater with ID 2175403\n",
      "Gathering Data for sakaiminato with ID 1853174\n",
      "Gathering Data for eyl with ID 60019\n",
      "Gathering Data for stromness with ID 2636638\n",
      "Gathering Data for pacific grove with ID 5380437\n",
      "Gathering Data for cordoba with ID 3860259\n",
      "Gathering Data for mount isa with ID 2065594\n",
      "Gathering Data for amalapuram with ID 1278935\n",
      "Gathering Data for paris with ID 2988507\n",
      "Gathering Data for dharampur with ID 1272881\n",
      "Gathering Data for sapucaia with ID 3448031\n",
      "Gathering Data for gat with ID 293842\n",
      "City Not Found: kachikau\n",
      "Gathering Data for muroto with ID 1856392\n",
      "Gathering Data for barcelos with ID 2742416\n",
      "Gathering Data for alamosa with ID 5411479\n",
      "Gathering Data for pangkalanbuun with ID 1632694\n",
      "Gathering Data for sendhwa with ID 1256854\n",
      "Gathering Data for lasa with ID 3175096\n",
      "Gathering Data for pio ix with ID 3392020\n",
      "Gathering Data for brownwood with ID 4676798\n",
      "Gathering Data for fare with ID 4034496\n",
      "Gathering Data for camocim with ID 3403687\n",
      "Gathering Data for le vauclin with ID 3570392\n",
      "Gathering Data for ornskoldsvik with ID 2686469\n",
      "Gathering Data for fairbanks with ID 5861897\n",
      "Gathering Data for acapulco with ID 3533462\n",
      "Gathering Data for chapada dos guimaraes with ID 3466307\n",
      "Gathering Data for viransehir with ID 298033\n",
      "Gathering Data for pyaozerskiy with ID 503581\n",
      "Gathering Data for moindou with ID 2140466\n",
      "Gathering Data for champerico with ID 3598787\n",
      "Gathering Data for jumla with ID 1283285\n",
      "Gathering Data for braganca with ID 3405006\n",
      "Gathering Data for nanakuli with ID 5851349\n",
      "Gathering Data for skibbereen with ID 2961459\n",
      "Gathering Data for tual with ID 1623197\n",
      "Gathering Data for brae with ID 2654970\n",
      "Gathering Data for naryan-mar with ID 523392\n",
      "Gathering Data for inyonga with ID 159134\n",
      "Gathering Data for srandakan with ID 1626493\n",
      "Gathering Data for ternate with ID 1624041\n",
      "Gathering Data for altayskoye with ID 1511736\n",
      "Gathering Data for baykit with ID 1510689\n",
      "City Not Found: bargal\n",
      "Gathering Data for wewak with ID 2083537\n",
      "Gathering Data for porbandar with ID 1259395\n",
      "Gathering Data for brigantine with ID 4500920\n",
      "Gathering Data for ponta do sol with ID 2264557\n",
      "Gathering Data for acarau with ID 3408368\n",
      "Gathering Data for college with ID 5859699\n",
      "Gathering Data for greenwood with ID 4580575\n",
      "Gathering Data for daru with ID 2098329\n",
      "Gathering Data for sao joao da barra with ID 3448903\n",
      "Gathering Data for chitrakonda with ID 1274055\n",
      "Gathering Data for kunming with ID 1804651\n",
      "Gathering Data for plavinas with ID 456635\n",
      "Gathering Data for manavalakurichi with ID 1263942\n",
      "Gathering Data for necochea with ID 3430443\n",
      "Gathering Data for zhanaozen with ID 607610\n",
      "Gathering Data for espinosa with ID 3463939\n",
      "Gathering Data for shingu with ID 1847947\n",
      "Gathering Data for namatanai with ID 2090021\n",
      "Gathering Data for biabou with ID 3577955\n",
      "Gathering Data for cochrane with ID 5924618\n",
      "Gathering Data for goderich with ID 5962442\n",
      "Gathering Data for kabrai with ID 1268739\n",
      "Gathering Data for losevo with ID 534073\n",
      "Gathering Data for aksaray with ID 324496\n",
      "Gathering Data for verkhnevilyuysk with ID 2013639\n",
      "Gathering Data for suntar with ID 2015913\n",
      "Gathering Data for andover with ID 2657324\n",
      "Gathering Data for itarema with ID 3393692\n",
      "Gathering Data for balsas with ID 3406545\n",
      "Gathering Data for san with ID 2451778\n",
      "Gathering Data for mo i rana with ID 3145614\n",
      "City Not Found: burkhala\n",
      "Gathering Data for garowe with ID 58933\n",
      "Gathering Data for mopti with ID 2453347\n",
      "Gathering Data for cavalcante with ID 3466594\n",
      "Gathering Data for manoel urbano with ID 3663495\n",
      "Gathering Data for neiafu with ID 4032420\n",
      "Gathering Data for zarechnyy with ID 464625\n",
      "Gathering Data for poltavka with ID 1494500\n",
      "Gathering Data for lovozero with ID 533933\n",
      "Gathering Data for langsa with ID 1214724\n",
      "Gathering Data for sao felix do xingu with ID 3388847\n",
      "Gathering Data for mvangue with ID 2225703\n",
      "Gathering Data for hohhot with ID 2036892\n",
      "Gathering Data for tessalit with ID 2449893\n",
      "Gathering Data for nelson bay with ID 2155562\n",
      "Gathering Data for port moresby with ID 2088122\n",
      "City Not Found: solovetskiy\n",
      "Gathering Data for byron bay with ID 2172880\n",
      "Gathering Data for mitu with ID 3674676\n",
      "Gathering Data for asau with ID 686090\n",
      "Gathering Data for tabou with ID 2281120\n",
      "Gathering Data for kikwit with ID 2314705\n",
      "Gathering Data for forestville with ID 4355274\n",
      "Gathering Data for puerto leguizamo with ID 3671437\n",
      "Gathering Data for pitimbu with ID 3391889\n",
      "Gathering Data for port-gentil with ID 2396518\n",
      "City Not Found: bolungarvik\n",
      "Gathering Data for yerofey pavlovich with ID 2012938\n",
      "Gathering Data for aksu with ID 1529660\n",
      "Gathering Data for la oroya with ID 3936952\n"
     ]
    },
    {
     "name": "stdout",
     "output_type": "stream",
     "text": [
      "Gathering Data for tingo maria with ID 3691348\n",
      "Gathering Data for bonthe with ID 2409914\n",
      "Gathering Data for radom with ID 760778\n",
      "Gathering Data for caravelas with ID 3466980\n",
      "Gathering Data for linxia with ID 1803331\n",
      "Gathering Data for hlotse with ID 932698\n",
      "Gathering Data for lara with ID 2160560\n",
      "Gathering Data for havelock with ID 4470244\n",
      "Gathering Data for ayan with ID 2027316\n",
      "Gathering Data for laguna with ID 5364271\n",
      "Gathering Data for disna with ID 629055\n",
      "Gathering Data for onokhoy with ID 2018436\n",
      "Gathering Data for yining with ID 1786538\n",
      "Gathering Data for sistranda with ID 3139597\n",
      "City Not Found: liminangcong\n"
     ]
    }
   ],
   "source": [
    "query_url = \"http://api.openweathermap.org/data/2.5/weather?appid=\" + weather_api_key + \"&units=imperial\" + \"&q=\"\n",
    "\n",
    "tempList = []\n",
    "humList = [] \n",
    "cloudList = []\n",
    "latList = []\n",
    "longList = []\n",
    "windList = []\n",
    "countryList = []\n",
    "cityList = []\n",
    "dateList = []\n",
    "\n",
    "\n",
    "for city in cities:\n",
    "    response = requests.get(query_url + city).json()\n",
    "    \n",
    "    try:\n",
    "        print(f'Gathering Data for {city} with ID {response[\"id\"]}')\n",
    "        tempList.append(response[\"main\"][\"temp\"])\n",
    "        humList.append(response[\"main\"][\"humidity\"])\n",
    "        cloudList.append(response[\"clouds\"][\"all\"])\n",
    "        latList.append(response[\"coord\"][\"lat\"])\n",
    "        longList.append(response[\"coord\"][\"lon\"])\n",
    "        windList.append(response[\"wind\"][\"speed\"])\n",
    "        countryList.append(response[\"sys\"][\"country\"])\n",
    "        cityList.append(response[\"name\"])\n",
    "        dateList.append(response[\"dt\"])\n",
    "                           \n",
    "    except KeyError as e:\n",
    "        print(f\"City Not Found: {city}\")\n",
    "    continue\n",
    "\n"
   ]
  },
  {
   "cell_type": "markdown",
   "metadata": {},
   "source": [
    "### Convert Raw Data to DataFrame\n",
    "* Export the city data into a .csv.\n",
    "* Display the DataFrame"
   ]
  },
  {
   "cell_type": "code",
   "execution_count": 18,
   "metadata": {},
   "outputs": [
    {
     "name": "stdout",
     "output_type": "stream",
     "text": [
      "{'base': 'stations',\n",
      " 'clouds': {'all': 90},\n",
      " 'cod': 200,\n",
      " 'coord': {'lat': 42.36, 'lon': -71.06},\n",
      " 'dt': 1591573930,\n",
      " 'id': 4930956,\n",
      " 'main': {'feels_like': 59.58,\n",
      "          'humidity': 82,\n",
      "          'pressure': 1013,\n",
      "          'temp': 60.06,\n",
      "          'temp_max': 63,\n",
      "          'temp_min': 57},\n",
      " 'name': 'Boston',\n",
      " 'sys': {'country': 'US',\n",
      "         'id': 3486,\n",
      "         'sunrise': 1591520869,\n",
      "         'sunset': 1591575532,\n",
      "         'type': 1},\n",
      " 'timezone': -14400,\n",
      " 'visibility': 16093,\n",
      " 'weather': [{'description': 'overcast clouds',\n",
      "              'icon': '04d',\n",
      "              'id': 804,\n",
      "              'main': 'Clouds'}],\n",
      " 'wind': {'deg': 180, 'speed': 3.36}}\n"
     ]
    }
   ],
   "source": [
    "response = requests.get(query_url + \"Boston\").json()\n",
    "pprint(response)"
   ]
  },
  {
   "cell_type": "code",
   "execution_count": 24,
   "metadata": {
    "scrolled": false
   },
   "outputs": [
    {
     "data": {
      "text/html": [
       "<div>\n",
       "<style scoped>\n",
       "    .dataframe tbody tr th:only-of-type {\n",
       "        vertical-align: middle;\n",
       "    }\n",
       "\n",
       "    .dataframe tbody tr th {\n",
       "        vertical-align: top;\n",
       "    }\n",
       "\n",
       "    .dataframe thead th {\n",
       "        text-align: right;\n",
       "    }\n",
       "</style>\n",
       "<table border=\"1\" class=\"dataframe\">\n",
       "  <thead>\n",
       "    <tr style=\"text-align: right;\">\n",
       "      <th></th>\n",
       "      <th>City</th>\n",
       "      <th>Country</th>\n",
       "      <th>Temp</th>\n",
       "      <th>Humidity</th>\n",
       "      <th>Lat</th>\n",
       "      <th>Long</th>\n",
       "      <th>Cloud</th>\n",
       "      <th>Wind</th>\n",
       "      <th>Date</th>\n",
       "    </tr>\n",
       "  </thead>\n",
       "  <tbody>\n",
       "    <tr>\n",
       "      <th>0</th>\n",
       "      <td>Vao</td>\n",
       "      <td>NC</td>\n",
       "      <td>71.58</td>\n",
       "      <td>68</td>\n",
       "      <td>-22.67</td>\n",
       "      <td>167.48</td>\n",
       "      <td>100</td>\n",
       "      <td>14.88</td>\n",
       "      <td>1591579101</td>\n",
       "    </tr>\n",
       "    <tr>\n",
       "      <th>1</th>\n",
       "      <td>Ribeira Grande</td>\n",
       "      <td>PT</td>\n",
       "      <td>62.31</td>\n",
       "      <td>70</td>\n",
       "      <td>38.52</td>\n",
       "      <td>-28.70</td>\n",
       "      <td>13</td>\n",
       "      <td>7.92</td>\n",
       "      <td>1591579101</td>\n",
       "    </tr>\n",
       "    <tr>\n",
       "      <th>2</th>\n",
       "      <td>Port Alfred</td>\n",
       "      <td>ZA</td>\n",
       "      <td>60.01</td>\n",
       "      <td>97</td>\n",
       "      <td>-33.59</td>\n",
       "      <td>26.89</td>\n",
       "      <td>0</td>\n",
       "      <td>1.01</td>\n",
       "      <td>1591579101</td>\n",
       "    </tr>\n",
       "    <tr>\n",
       "      <th>3</th>\n",
       "      <td>Cape Town</td>\n",
       "      <td>ZA</td>\n",
       "      <td>54.21</td>\n",
       "      <td>100</td>\n",
       "      <td>-33.93</td>\n",
       "      <td>18.42</td>\n",
       "      <td>75</td>\n",
       "      <td>9.17</td>\n",
       "      <td>1591579102</td>\n",
       "    </tr>\n",
       "    <tr>\n",
       "      <th>4</th>\n",
       "      <td>Kutum</td>\n",
       "      <td>SD</td>\n",
       "      <td>70.30</td>\n",
       "      <td>18</td>\n",
       "      <td>14.20</td>\n",
       "      <td>24.67</td>\n",
       "      <td>0</td>\n",
       "      <td>6.60</td>\n",
       "      <td>1591579102</td>\n",
       "    </tr>\n",
       "  </tbody>\n",
       "</table>\n",
       "</div>"
      ],
      "text/plain": [
       "             City Country   Temp  Humidity    Lat    Long  Cloud   Wind  \\\n",
       "0             Vao      NC  71.58        68 -22.67  167.48    100  14.88   \n",
       "1  Ribeira Grande      PT  62.31        70  38.52  -28.70     13   7.92   \n",
       "2     Port Alfred      ZA  60.01        97 -33.59   26.89      0   1.01   \n",
       "3       Cape Town      ZA  54.21       100 -33.93   18.42     75   9.17   \n",
       "4           Kutum      SD  70.30        18  14.20   24.67      0   6.60   \n",
       "\n",
       "         Date  \n",
       "0  1591579101  \n",
       "1  1591579101  \n",
       "2  1591579101  \n",
       "3  1591579102  \n",
       "4  1591579102  "
      ]
     },
     "execution_count": 24,
     "metadata": {},
     "output_type": "execute_result"
    }
   ],
   "source": [
    "weather_dict = {\"City\": cityList, \n",
    "                \"Country\": countryList, \n",
    "                \"Temp\": tempList, \n",
    "                \"Humidity\": humList, \n",
    "                \"Lat\": latList, \n",
    "                \"Long\": longList, \n",
    "                \"Cloud\": cloudList, \n",
    "                \"Wind\": windList, \n",
    "                \"Date\": dateList\n",
    "                }\n",
    "weather_df = pd.DataFrame(weather_dict)\n",
    "weather_df.to_csv(\"Output/weather_data.csv\")\n",
    "weather_df.head()"
   ]
  },
  {
   "cell_type": "code",
   "execution_count": null,
   "metadata": {},
   "outputs": [],
   "source": []
  },
  {
   "cell_type": "markdown",
   "metadata": {},
   "source": [
    "## Inspect the data and remove the cities where the humidity > 100%.\n",
    "----\n",
    "Skip this step if there are no cities that have humidity > 100%. "
   ]
  },
  {
   "cell_type": "code",
   "execution_count": null,
   "metadata": {},
   "outputs": [],
   "source": []
  },
  {
   "cell_type": "code",
   "execution_count": null,
   "metadata": {},
   "outputs": [],
   "source": [
    "#  Get the indices of cities that have humidity over 100%.\n"
   ]
  },
  {
   "cell_type": "code",
   "execution_count": null,
   "metadata": {},
   "outputs": [],
   "source": [
    "# Make a new DataFrame equal to the city data to drop all humidity outliers by index.\n",
    "# Passing \"inplace=False\" will make a copy of the city_data DataFrame, which we call \"clean_city_data\".\n"
   ]
  },
  {
   "cell_type": "code",
   "execution_count": null,
   "metadata": {},
   "outputs": [],
   "source": [
    "# Extract relevant fields from the data frame\n",
    "\n",
    "\n",
    "# Export the City_Data into a csv\n"
   ]
  },
  {
   "cell_type": "markdown",
   "metadata": {},
   "source": [
    "## Plotting the Data\n",
    "* Use proper labeling of the plots using plot titles (including date of analysis) and axes labels.\n",
    "* Save the plotted figures as .pngs."
   ]
  },
  {
   "cell_type": "markdown",
   "metadata": {},
   "source": [
    "## Latitude vs. Temperature Plot"
   ]
  },
  {
   "cell_type": "code",
   "execution_count": 14,
   "metadata": {
    "scrolled": true
   },
   "outputs": [
    {
     "data": {
      "text/plain": [
       "Text(0.5, 1.0, 'Latitude vs Temperature')"
      ]
     },
     "execution_count": 14,
     "metadata": {},
     "output_type": "execute_result"
    },
    {
     "data": {
      "image/png": "[encoded data removed]",
      "text/plain": [
       "<Figure size 432x288 with 1 Axes>"
      ]
     },
     "metadata": {
      "needs_background": "light"
     },
     "output_type": "display_data"
    }
   ],
   "source": [
    "plt.scatter(weather_df[\"Lat\"], weather_df[\"Temp\"])\n",
    "plt.xlabel(\"Latitude\")\n",
    "plt.ylabel(\"Temperature (F)\")\n",
    "plt.title(\"Latitude vs Temperature\")"
   ]
  },
  {
   "cell_type": "markdown",
   "metadata": {},
   "source": [
    "## Latitude vs. Humidity Plot"
   ]
  },
  {
   "cell_type": "code",
   "execution_count": 11,
   "metadata": {},
   "outputs": [
    {
     "data": {
      "text/plain": [
       "<matplotlib.collections.PathCollection at 0x22bff3a8988>"
      ]
     },
     "execution_count": 11,
     "metadata": {},
     "output_type": "execute_result"
    },
    {
     "data": {
      "image/png": "[encoded data removed]",
      "text/plain": [
       "<Figure size 432x288 with 1 Axes>"
      ]
     },
     "metadata": {
      "needs_background": "light"
     },
     "output_type": "display_data"
    }
   ],
   "source": [
    "plt.scatter(weather_df[\"Lat\"], weather_df[\"Humidity\"])"
   ]
  },
  {
   "cell_type": "markdown",
   "metadata": {},
   "source": [
    "## Latitude vs. Cloudiness Plot"
   ]
  },
  {
   "cell_type": "code",
   "execution_count": 12,
   "metadata": {},
   "outputs": [
    {
     "data": {
      "text/plain": [
       "<matplotlib.collections.PathCollection at 0x22b800de648>"
      ]
     },
     "execution_count": 12,
     "metadata": {},
     "output_type": "execute_result"
    },
    {
     "data": {
      "image/png": "[encoded data removed]",
      "text/plain": [
       "<Figure size 432x288 with 1 Axes>"
      ]
     },
     "metadata": {
      "needs_background": "light"
     },
     "output_type": "display_data"
    }
   ],
   "source": [
    "plt.scatter(weather_df[\"Lat\"], weather_df[\"Cloud\"])"
   ]
  },
  {
   "cell_type": "markdown",
   "metadata": {},
   "source": [
    "## Latitude vs. Wind Speed Plot"
   ]
  },
  {
   "cell_type": "code",
   "execution_count": 13,
   "metadata": {},
   "outputs": [
    {
     "data": {
      "text/plain": [
       "<matplotlib.collections.PathCollection at 0x22b80145488>"
      ]
     },
     "execution_count": 13,
     "metadata": {},
     "output_type": "execute_result"
    },
    {
     "data": {
      "image/png": "[encoded data removed]",
      "text/plain": [
       "<Figure size 432x288 with 1 Axes>"
      ]
     },
     "metadata": {
      "needs_background": "light"
     },
     "output_type": "display_data"
    }
   ],
   "source": [
    "plt.scatter(weather_df[\"Lat\"], weather_df[\"Wind\"])"
   ]
  },
  {
   "cell_type": "markdown",
   "metadata": {},
   "source": [
    "## Linear Regression"
   ]
  },
  {
   "cell_type": "code",
   "execution_count": null,
   "metadata": {},
   "outputs": [],
   "source": [
    "# OPTIONAL: Create a function to create Linear Regression plots"
   ]
  },
  {
   "cell_type": "code",
   "execution_count": null,
   "metadata": {},
   "outputs": [],
   "source": [
    "# Create Northern and Southern Hemisphere DataFrames"
   ]
  },
  {
   "cell_type": "markdown",
   "metadata": {},
   "source": [
    "####  Northern Hemisphere - Max Temp vs. Latitude Linear Regression"
   ]
  },
  {
   "cell_type": "code",
   "execution_count": null,
   "metadata": {},
   "outputs": [],
   "source": []
  },
  {
   "cell_type": "markdown",
   "metadata": {},
   "source": [
    "####  Southern Hemisphere - Max Temp vs. Latitude Linear Regression"
   ]
  },
  {
   "cell_type": "code",
   "execution_count": null,
   "metadata": {},
   "outputs": [],
   "source": []
  },
  {
   "cell_type": "markdown",
   "metadata": {},
   "source": [
    "####  Northern Hemisphere - Humidity (%) vs. Latitude Linear Regression"
   ]
  },
  {
   "cell_type": "code",
   "execution_count": null,
   "metadata": {},
   "outputs": [],
   "source": []
  },
  {
   "cell_type": "markdown",
   "metadata": {},
   "source": [
    "####  Southern Hemisphere - Humidity (%) vs. Latitude Linear Regression"
   ]
  },
  {
   "cell_type": "code",
   "execution_count": null,
   "metadata": {},
   "outputs": [],
   "source": []
  },
  {
   "cell_type": "markdown",
   "metadata": {},
   "source": [
    "####  Northern Hemisphere - Cloudiness (%) vs. Latitude Linear Regression"
   ]
  },
  {
   "cell_type": "code",
   "execution_count": null,
   "metadata": {},
   "outputs": [],
   "source": []
  },
  {
   "cell_type": "markdown",
   "metadata": {},
   "source": [
    "####  Southern Hemisphere - Cloudiness (%) vs. Latitude Linear Regression"
   ]
  },
  {
   "cell_type": "code",
   "execution_count": null,
   "metadata": {},
   "outputs": [],
   "source": []
  },
  {
   "cell_type": "markdown",
   "metadata": {},
   "source": [
    "####  Northern Hemisphere - Wind Speed (mph) vs. Latitude Linear Regression"
   ]
  },
  {
   "cell_type": "code",
   "execution_count": null,
   "metadata": {},
   "outputs": [],
   "source": []
  },
  {
   "cell_type": "markdown",
   "metadata": {},
   "source": [
    "####  Southern Hemisphere - Wind Speed (mph) vs. Latitude Linear Regression"
   ]
  },
  {
   "cell_type": "code",
   "execution_count": null,
   "metadata": {},
   "outputs": [],
   "source": []
  },
  {
   "cell_type": "code",
   "execution_count": null,
   "metadata": {},
   "outputs": [],
   "source": []
  }
 ],
 "metadata": {
  "anaconda-cloud": {},
  "kernel_info": {
   "name": "python3"
  },
  "kernelspec": {
   "display_name": "Python 3",
   "language": "python",
   "name": "python3"
  },
  "language_info": {
   "codemirror_mode": {
    "name": "ipython",
    "version": 3
   },
   "file_extension": ".py",
   "mimetype": "text/x-python",
   "name": "python",
   "nbconvert_exporter": "python",
   "pygments_lexer": "ipython3",
   "version": "3.7.6"
  },
  "latex_envs": {
   "LaTeX_envs_menu_present": true,
   "autoclose": false,
   "autocomplete": true,
   "bibliofile": "biblio.bib",
   "cite_by": "apalike",
   "current_citInitial": 1,
   "eqLabelWithNumbers": true,
   "eqNumInitial": 1,
   "hotkeys": {
    "equation": "Ctrl-E",
    "itemize": "Ctrl-I"
   },
   "labels_anchors": false,
   "latex_user_defs": false,
   "report_style_numbering": false,
   "user_envs_cfg": false
  },
  "nteract": {
   "version": "0.12.3"
  }
 },
 "nbformat": 4,
 "nbformat_minor": 2
}
