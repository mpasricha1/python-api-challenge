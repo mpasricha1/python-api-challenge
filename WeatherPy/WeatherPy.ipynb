{
 "cells": [
  {
   "cell_type": "markdown",
   "metadata": {},
   "source": [
    "# WeatherPy\n",
    "----\n",
    "\n",
    "#### Note\n",
    "* Instructions have been included for each segment. You do not have to follow them exactly, but they are included to help you think through the steps."
   ]
  },
  {
   "cell_type": "code",
   "execution_count": 42,
   "metadata": {
    "scrolled": true
   },
   "outputs": [],
   "source": [
    "# Dependencies and Setup\n",
    "import matplotlib.pyplot as plt\n",
    "import pandas as pd\n",
    "import numpy as np\n",
    "import requests\n",
    "import time\n",
    "from scipy.stats import linregress\n",
    "from pprint import pprint\n",
    "from datetime import datetime\n",
    "\n",
    "# Import API key\n",
    "from api_keys import weather_api_key\n",
    "\n",
    "# Incorporated citipy to determine city based on latitude and longitude\n",
    "from citipy import citipy\n",
    "\n",
    "# Output File (CSV)\n",
    "output_data_file = \"output_data/cities.csv\"\n",
    "\n",
    "# Range of latitudes and longitudes\n",
    "lat_range = (-90, 90)\n",
    "lng_range = (-180, 180)"
   ]
  },
  {
   "cell_type": "markdown",
   "metadata": {},
   "source": [
    "## Generate Cities List"
   ]
  },
  {
   "cell_type": "code",
   "execution_count": 3,
   "metadata": {},
   "outputs": [
    {
     "data": {
      "text/plain": [
       "628"
      ]
     },
     "execution_count": 3,
     "metadata": {},
     "output_type": "execute_result"
    }
   ],
   "source": [
    "# List for holding lat_lngs and cities\n",
    "lat_lngs = []\n",
    "cities = []\n",
    "\n",
    "# Create a set of random lat and lng combinations\n",
    "lats = np.random.uniform(lat_range[0], lat_range[1], size=1500)\n",
    "lngs = np.random.uniform(lng_range[0], lng_range[1], size=1500)\n",
    "lat_lngs = zip(lats, lngs)\n",
    "\n",
    "# Identify nearest city for each lat, lng combination\n",
    "for lat_lng in lat_lngs:\n",
    "    city = citipy.nearest_city(lat_lng[0], lat_lng[1]).city_name\n",
    "    \n",
    "    # If the city is unique, then add it to a our cities list\n",
    "    if city not in cities:\n",
    "        cities.append(city)\n",
    "\n",
    "# Print the city count to confirm sufficient count\n",
    "len(cities)"
   ]
  },
  {
   "cell_type": "markdown",
   "metadata": {},
   "source": [
    "## Perform API Calls\n",
    "* Perform a weather check on each city using a series of successive API calls.\n",
    "* Include a print log of each city as it'being processed (with the city number and city name).\n"
   ]
  },
  {
   "cell_type": "code",
   "execution_count": 31,
   "metadata": {
    "scrolled": true
   },
   "outputs": [
    {
     "name": "stdout",
     "output_type": "stream",
     "text": [
      "Gathering Data for komsomolskiy with ID 1513491\n",
      "Gathering Data for touros with ID 3386213\n",
      "City Not Found: vaitupu\n",
      "Gathering Data for rikitea with ID 4030556\n",
      "Gathering Data for sayan with ID 3928867\n",
      "Gathering Data for guaruja with ID 3461789\n",
      "Gathering Data for butaritari with ID 2110227\n",
      "Gathering Data for puerto ayora with ID 3652764\n",
      "Gathering Data for luganville with ID 2136150\n",
      "Gathering Data for arraial do cabo with ID 3471451\n",
      "Gathering Data for luau with ID 876177\n",
      "Gathering Data for bredasdorp with ID 1015776\n",
      "Gathering Data for punta arenas with ID 3874787\n",
      "Gathering Data for chuy with ID 3443061\n",
      "Gathering Data for hofn with ID 2630299\n",
      "Gathering Data for ushuaia with ID 3833367\n",
      "Gathering Data for price with ID 5545269\n",
      "Gathering Data for juneau with ID 5554072\n",
      "City Not Found: tsihombe\n",
      "Gathering Data for carnarvon with ID 2074865\n",
      "Gathering Data for sakaiminato with ID 1853174\n",
      "Gathering Data for nelson bay with ID 2155562\n",
      "Gathering Data for kinston with ID 4474436\n",
      "Gathering Data for lebu with ID 3883457\n",
      "Gathering Data for katsuura with ID 2112309\n",
      "Gathering Data for taoudenni with ID 2450173\n",
      "Gathering Data for bethel with ID 5282297\n",
      "Gathering Data for atuona with ID 4020109\n",
      "Gathering Data for belmonte with ID 3470137\n",
      "Gathering Data for zeya with ID 2012593\n",
      "City Not Found: mys shmidta\n",
      "Gathering Data for kendari with ID 1640344\n",
      "Gathering Data for chincholi with ID 1274169\n",
      "Gathering Data for hobart with ID 2163355\n",
      "Gathering Data for huilong with ID 1806840\n",
      "Gathering Data for magadan with ID 2123628\n",
      "Gathering Data for cherskiy with ID 2126199\n",
      "Gathering Data for zhigalovo with ID 2012532\n",
      "Gathering Data for saint-philippe with ID 935215\n",
      "City Not Found: belushya guba\n",
      "Gathering Data for lagos with ID 2332453\n",
      "Gathering Data for lima with ID 3936456\n",
      "Gathering Data for jingdezhen with ID 1805680\n",
      "Gathering Data for nikolskoye with ID 546105\n",
      "Gathering Data for alpine with ID 5323401\n",
      "Gathering Data for berlevag with ID 780687\n",
      "Gathering Data for sao filipe with ID 3374210\n",
      "Gathering Data for upernavik with ID 3418910\n",
      "Gathering Data for orlik with ID 1496073\n",
      "Gathering Data for norrtalje with ID 2688250\n",
      "Gathering Data for mataura with ID 6201424\n",
      "Gathering Data for port alfred with ID 964432\n",
      "Gathering Data for haines junction with ID 5969025\n",
      "Gathering Data for storforshei with ID 3145614\n",
      "City Not Found: illoqqortoormiut\n",
      "Gathering Data for port lincoln with ID 2063036\n",
      "Gathering Data for san carlos de bariloche with ID 7647007\n",
      "Gathering Data for lorengau with ID 2092164\n",
      "Gathering Data for bluff with ID 2206939\n",
      "Gathering Data for poya with ID 2138522\n",
      "City Not Found: sentyabrskiy\n",
      "City Not Found: taolanaro\n",
      "Gathering Data for lavrentiya with ID 4031637\n",
      "Gathering Data for port blair with ID 1259385\n",
      "City Not Found: tumannyy\n",
      "Gathering Data for cidreira with ID 3466165\n",
      "Gathering Data for hithadhoo with ID 1282256\n",
      "Gathering Data for bengkulu with ID 1649150\n",
      "Gathering Data for kavieng with ID 2094342\n",
      "Gathering Data for itaituba with ID 3397967\n",
      "Gathering Data for ca mau with ID 1586443\n",
      "Gathering Data for mahebourg with ID 934322\n",
      "Gathering Data for puerto del rosario with ID 2512186\n",
      "Gathering Data for noyabrsk with ID 1496503\n",
      "Gathering Data for busselton with ID 2075265\n",
      "Gathering Data for mar del plata with ID 3430863\n",
      "City Not Found: candawaga\n",
      "Gathering Data for vaini with ID 4032243\n",
      "Gathering Data for orotukan with ID 2122414\n",
      "Gathering Data for lagoa with ID 3372964\n",
      "Gathering Data for ixtapa with ID 4004293\n",
      "Gathering Data for ridgecrest with ID 5387494\n",
      "City Not Found: grand river south east\n",
      "Gathering Data for avarua with ID 4035715\n",
      "Gathering Data for bambous virieux with ID 1106677\n",
      "Gathering Data for jalu with ID 86049\n",
      "Gathering Data for kupang with ID 2057087\n",
      "Gathering Data for jamestown with ID 5122534\n",
      "City Not Found: attawapiskat\n",
      "Gathering Data for jinka with ID 333750\n",
      "Gathering Data for saint anthony with ID 5044290\n",
      "Gathering Data for krasnovishersk with ID 542184\n",
      "Gathering Data for victoria with ID 1819729\n",
      "Gathering Data for albany with ID 5106841\n",
      "Gathering Data for acarau with ID 3408368\n",
      "Gathering Data for ponta delgada with ID 3372783\n",
      "Gathering Data for padang with ID 1633419\n",
      "Gathering Data for hermanus with ID 3366880\n",
      "Gathering Data for kaitangata with ID 2208248\n",
      "Gathering Data for maragogi with ID 3395458\n",
      "Gathering Data for yellowknife with ID 6185377\n",
      "Gathering Data for dikson with ID 1507390\n",
      "Gathering Data for port-gentil with ID 2396518\n",
      "Gathering Data for meulaboh with ID 1214488\n",
      "Gathering Data for clyde river with ID 5924351\n",
      "Gathering Data for luderitz with ID 3355672\n",
      "Gathering Data for college with ID 5859699\n",
      "Gathering Data for mapiri with ID 3910758\n",
      "Gathering Data for dovolnoye with ID 1507220\n",
      "Gathering Data for isabela with ID 1710519\n",
      "Gathering Data for gat with ID 293842\n",
      "Gathering Data for codrington with ID 2171099\n",
      "Gathering Data for saskylakh with ID 2017155\n",
      "Gathering Data for tiksi with ID 2015306\n",
      "Gathering Data for paamiut with ID 3421193\n",
      "Gathering Data for chimore with ID 3920736\n",
      "Gathering Data for arlit with ID 2447513\n",
      "Gathering Data for mehran with ID 124291\n",
      "Gathering Data for balakhta with ID 1510998\n",
      "Gathering Data for tasiilaq with ID 3424607\n",
      "Gathering Data for beihai with ID 1816705\n",
      "Gathering Data for qasigiannguit with ID 3420768\n",
      "Gathering Data for marienburg with ID 3092472\n",
      "Gathering Data for ribeira grande with ID 3372707\n",
      "Gathering Data for petropavlovsk-kamchatskiy with ID 2122104\n",
      "Gathering Data for hamilton with ID 4513583\n",
      "Gathering Data for kapaa with ID 5848280\n",
      "Gathering Data for vestmanna with ID 2610343\n",
      "Gathering Data for eureka with ID 5563397\n",
      "Gathering Data for mahenge with ID 155274\n",
      "Gathering Data for georgetown with ID 1735106\n",
      "Gathering Data for dondo with ID 1024696\n",
      "Gathering Data for puerto madryn with ID 3840092\n",
      "Gathering Data for east london with ID 1006984\n",
      "Gathering Data for norman wells with ID 6089245\n",
      "Gathering Data for cabo san lucas with ID 3985710\n",
      "Gathering Data for maceio with ID 3395981\n",
      "Gathering Data for cape town with ID 3369157\n",
      "Gathering Data for castro with ID 3466704\n",
      "Gathering Data for iquique with ID 3887127\n",
      "Gathering Data for alofi with ID 4036284\n",
      "Gathering Data for sorland with ID 3137469\n",
      "City Not Found: dolbeau\n",
      "Gathering Data for new norfolk with ID 2155415\n",
      "Gathering Data for dourados with ID 3464460\n",
      "Gathering Data for sagana with ID 180868\n",
      "Gathering Data for ostrovnoy with ID 556268\n",
      "Gathering Data for donskoye with ID 565289\n",
      "Gathering Data for mehamn with ID 778707\n",
      "Gathering Data for ilulissat with ID 3423146\n",
      "Gathering Data for san juan with ID 3837213\n",
      "Gathering Data for chokurdakh with ID 2126123\n",
      "Gathering Data for lokhvytsya with ID 702874\n",
      "Gathering Data for kodiak with ID 5866583\n",
      "Gathering Data for nanortalik with ID 3421765\n",
      "Gathering Data for hilo with ID 5855927\n",
      "Gathering Data for hasaki with ID 2112802\n",
      "Gathering Data for kruisfontein with ID 986717\n",
      "Gathering Data for westport with ID 4845585\n",
      "Gathering Data for vestmannaeyjar with ID 3412093\n",
      "Gathering Data for kurilsk with ID 2123979\n",
      "Gathering Data for sitka with ID 5557293\n",
      "Gathering Data for chase with ID 5920381\n",
      "Gathering Data for half moon bay with ID 5354943\n",
      "Gathering Data for lisakovsk with ID 1521315\n",
      "Gathering Data for zarinsk with ID 1485439\n",
      "Gathering Data for mortka with ID 1498402\n",
      "Gathering Data for ambilobe with ID 1082243\n",
      "Gathering Data for sabha with ID 2212775\n",
      "City Not Found: bolshiye uki\n",
      "Gathering Data for khatanga with ID 2022572\n",
      "Gathering Data for plast with ID 1494907\n",
      "Gathering Data for pacasmayo with ID 3694178\n",
      "Gathering Data for puerto suarez with ID 3444199\n",
      "Gathering Data for camacha with ID 2270385\n",
      "Gathering Data for severo-kurilsk with ID 2121385\n",
      "Gathering Data for borskoye with ID 571987\n",
      "Gathering Data for shaunavon with ID 6145425\n",
      "Gathering Data for port elizabeth with ID 964420\n",
      "Gathering Data for nakusp with ID 6085665\n",
      "Gathering Data for souillac with ID 933995\n",
      "Gathering Data for esperance with ID 2071860\n",
      "Gathering Data for aumbay with ID 1729941\n",
      "Gathering Data for cayeli with ID 749502\n",
      "Gathering Data for sibolga with ID 1213855\n",
      "Gathering Data for marsabit with ID 187585\n",
      "Gathering Data for constitucion with ID 3893726\n",
      "Gathering Data for ponta do sol with ID 2264557\n",
      "Gathering Data for geraldton with ID 2070998\n",
      "Gathering Data for chapais with ID 5919850\n",
      "Gathering Data for tessalit with ID 2449893\n",
      "Gathering Data for torbay with ID 6167817\n",
      "Gathering Data for dingle with ID 1714733\n"
     ]
    },
    {
     "name": "stdout",
     "output_type": "stream",
     "text": [
      "Gathering Data for marrakesh with ID 2542997\n",
      "Gathering Data for marsh harbour with ID 3571913\n",
      "Gathering Data for bairiki with ID 7601762\n",
      "Gathering Data for iralaya with ID 3608828\n",
      "Gathering Data for poum with ID 2138555\n",
      "Gathering Data for mount isa with ID 2065594\n",
      "Gathering Data for beloha with ID 1067565\n",
      "Gathering Data for ibra with ID 287832\n",
      "Gathering Data for mira with ID 6540220\n",
      "Gathering Data for amapa with ID 3407762\n",
      "City Not Found: louisbourg\n",
      "Gathering Data for barrow with ID 5880054\n",
      "Gathering Data for dunda with ID 160141\n",
      "Gathering Data for xam nua with ID 1652203\n",
      "Gathering Data for nizwa with ID 286987\n",
      "Gathering Data for lillooet with ID 6945979\n",
      "Gathering Data for rawson with ID 3839307\n",
      "Gathering Data for avera with ID 4231997\n",
      "Gathering Data for isangel with ID 2136825\n",
      "Gathering Data for korla with ID 1529376\n",
      "Gathering Data for provideniya with ID 4031574\n",
      "Gathering Data for bilma with ID 2446796\n",
      "Gathering Data for leningradskiy with ID 2123814\n",
      "Gathering Data for lagunas with ID 3695844\n",
      "City Not Found: maimon\n",
      "Gathering Data for shimoda with ID 1852357\n",
      "City Not Found: amderma\n",
      "Gathering Data for sjovegan with ID 3139516\n",
      "Gathering Data for iqaluit with ID 5983720\n",
      "Gathering Data for san patricio with ID 3985168\n",
      "City Not Found: kamenskoye\n",
      "Gathering Data for saint-joseph with ID 6690296\n",
      "Gathering Data for mineiros with ID 3457147\n",
      "Gathering Data for hays with ID 4696788\n",
      "Gathering Data for egvekinot with ID 4031742\n",
      "Gathering Data for buala with ID 2109528\n",
      "City Not Found: saleaula\n",
      "Gathering Data for ambon with ID 1651531\n",
      "Gathering Data for wattegama with ID 1224061\n",
      "Gathering Data for boguchany with ID 1509844\n",
      "Gathering Data for portland with ID 5746545\n",
      "Gathering Data for sola with ID 2134814\n",
      "Gathering Data for doka with ID 376332\n",
      "City Not Found: barentsburg\n",
      "Gathering Data for upata with ID 3625710\n",
      "Gathering Data for klaksvik with ID 2618795\n",
      "Gathering Data for guangyuan with ID 1806466\n",
      "Gathering Data for port moresby with ID 2088122\n",
      "City Not Found: paradwip\n",
      "Gathering Data for trinidad with ID 3902377\n",
      "Gathering Data for ulladulla with ID 2145554\n",
      "Gathering Data for alice springs with ID 2077895\n",
      "Gathering Data for sitio novo do tocantins with ID 3387423\n",
      "Gathering Data for salalah with ID 286621\n",
      "Gathering Data for montmagny with ID 2992287\n",
      "Gathering Data for arman with ID 2127060\n",
      "Gathering Data for balabac with ID 1728675\n",
      "Gathering Data for tombouctou with ID 2449066\n",
      "Gathering Data for mangrol with ID 1263752\n",
      "Gathering Data for omboue with ID 2396853\n",
      "City Not Found: cagayan de tawi-tawi\n",
      "Gathering Data for whitehorse with ID 6180550\n",
      "Gathering Data for fairbanks with ID 5861897\n",
      "Gathering Data for basco with ID 1726449\n",
      "Gathering Data for minot with ID 5690532\n",
      "Gathering Data for el playon with ID 3792399\n",
      "Gathering Data for aswan with ID 359792\n",
      "City Not Found: samusu\n",
      "Gathering Data for monrovia with ID 2274895\n",
      "Gathering Data for tupik with ID 2014836\n",
      "Gathering Data for turukhansk with ID 1488903\n",
      "Gathering Data for neuquen with ID 3843123\n",
      "City Not Found: nizhneyansk\n",
      "Gathering Data for manado with ID 1636544\n",
      "Gathering Data for qaanaaq with ID 3831208\n",
      "Gathering Data for sioux lookout with ID 6148373\n",
      "Gathering Data for nouadhibou with ID 2377457\n",
      "Gathering Data for murwillumbah with ID 2156049\n",
      "Gathering Data for lucea with ID 3489657\n",
      "Gathering Data for thompson with ID 6165406\n",
      "Gathering Data for airai with ID 1651810\n",
      "Gathering Data for suhum with ID 2295065\n",
      "Gathering Data for murray with ID 5778755\n",
      "City Not Found: bacuit\n",
      "Gathering Data for manavalakurichi with ID 1263942\n",
      "Gathering Data for khao yoi with ID 1152919\n",
      "Gathering Data for dubinino with ID 1507172\n",
      "Gathering Data for myitkyina with ID 1307741\n",
      "Gathering Data for catalca with ID 749644\n",
      "Gathering Data for tautira with ID 4033557\n",
      "Gathering Data for beringovskiy with ID 2126710\n",
      "Gathering Data for sao pedro do sul with ID 3448332\n",
      "Gathering Data for beyneu with ID 610298\n",
      "Gathering Data for kavaratti with ID 1267390\n",
      "City Not Found: doctor pedro p. pena\n",
      "Gathering Data for mirnyy with ID 2019951\n",
      "Gathering Data for tyukalinsk with ID 1488780\n",
      "Gathering Data for antofagasta with ID 3899539\n",
      "Gathering Data for the valley with ID 3573374\n",
      "Gathering Data for halifax with ID 6324729\n",
      "Gathering Data for kenai with ID 5866063\n",
      "Gathering Data for cravo norte with ID 3685702\n",
      "Gathering Data for neepawa with ID 6086673\n",
      "Gathering Data for berbera with ID 64435\n",
      "Gathering Data for pafos with ID 146214\n",
      "Gathering Data for sena madureira with ID 3662155\n",
      "City Not Found: bolungarvik\n",
      "Gathering Data for kulhudhuffushi with ID 1337613\n",
      "Gathering Data for marystown with ID 6067472\n",
      "Gathering Data for katobu with ID 1640972\n",
      "Gathering Data for xinxiang with ID 1788572\n",
      "Gathering Data for tuatapere with ID 2180815\n",
      "Gathering Data for rio gallegos with ID 3838859\n",
      "Gathering Data for kailua with ID 5847486\n",
      "Gathering Data for ayorou with ID 2447416\n",
      "Gathering Data for laguna with ID 5364271\n",
      "Gathering Data for damghan with ID 138025\n",
      "City Not Found: karaul\n",
      "Gathering Data for queanbeyan with ID 2152286\n",
      "Gathering Data for kvareli with ID 612338\n",
      "Gathering Data for atambua with ID 1651103\n",
      "City Not Found: linchuan\n",
      "Gathering Data for moyale with ID 186180\n",
      "Gathering Data for orje with ID 3143427\n",
      "Gathering Data for pevek with ID 2122090\n",
      "Gathering Data for komsomolskoye with ID 545690\n",
      "City Not Found: marcona\n",
      "Gathering Data for marfino with ID 529368\n",
      "Gathering Data for bandarbeyla with ID 64814\n",
      "Gathering Data for capim grosso with ID 3467272\n",
      "Gathering Data for nchelenge with ID 175499\n",
      "Gathering Data for ancud with ID 3899695\n",
      "Gathering Data for ajdabiya with ID 89113\n",
      "Gathering Data for viedma with ID 3832899\n",
      "Gathering Data for kedrovyy with ID 1538641\n",
      "City Not Found: ciras\n",
      "Gathering Data for jupiter with ID 4160610\n",
      "Gathering Data for winona with ID 5053164\n",
      "Gathering Data for watsa with ID 204283\n",
      "Gathering Data for vila velha with ID 3445026\n",
      "Gathering Data for mount gambier with ID 2156643\n",
      "Gathering Data for pisco with ID 3932145\n",
      "Gathering Data for menomonie with ID 5262634\n",
      "Gathering Data for isiolo with ID 196231\n",
      "Gathering Data for talaya with ID 2120769\n",
      "Gathering Data for mabaruma with ID 3377301\n",
      "Gathering Data for yerbogachen with ID 2012956\n",
      "Gathering Data for havelock with ID 4470244\n",
      "Gathering Data for belomorsk with ID 577922\n",
      "Gathering Data for larsnes with ID 3148133\n",
      "Gathering Data for santa isabel do rio negro with ID 3662489\n",
      "Gathering Data for tuktoyaktuk with ID 6170031\n",
      "Gathering Data for vao with ID 2137773\n",
      "Gathering Data for quang ngai with ID 1568770\n",
      "Gathering Data for creel with ID 4012593\n",
      "Gathering Data for vanimo with ID 2084442\n",
      "Gathering Data for asyut with ID 359783\n",
      "Gathering Data for opuwo with ID 3354077\n",
      "Gathering Data for bilibino with ID 2126682\n",
      "Gathering Data for shingu with ID 1847947\n",
      "Gathering Data for nimbahera with ID 1261369\n",
      "Gathering Data for hualmay with ID 3939761\n",
      "Gathering Data for bay roberts with ID 5895424\n",
      "Gathering Data for vostok with ID 2013279\n",
      "Gathering Data for mandera with ID 187896\n",
      "Gathering Data for saint george with ID 5546220\n",
      "Gathering Data for kibray with ID 1514210\n",
      "Gathering Data for taltal with ID 3870243\n",
      "Gathering Data for kattivakkam with ID 1267433\n",
      "Gathering Data for vardo with ID 777019\n",
      "Gathering Data for saint andrews with ID 4593724\n",
      "Gathering Data for morondava with ID 1058381\n",
      "Gathering Data for homer with ID 5864145\n",
      "Gathering Data for drumheller with ID 5942798\n",
      "Gathering Data for khor with ID 2022317\n",
      "Gathering Data for saldanha with ID 3361934\n",
      "Gathering Data for yar-sale with ID 1486321\n",
      "Gathering Data for tapes with ID 3446880\n",
      "City Not Found: mirina\n",
      "Gathering Data for billings with ID 5640350\n",
      "Gathering Data for at-bashi with ID 1528796\n",
      "Gathering Data for hanyang with ID 1798537\n",
      "Gathering Data for port hedland with ID 2063042\n",
      "Gathering Data for belaya gora with ID 2126785\n",
      "City Not Found: nguiu\n",
      "Gathering Data for tulun with ID 2014927\n",
      "Gathering Data for hambantota with ID 1244926\n",
      "Gathering Data for sao joao da barra with ID 3448903\n",
      "Gathering Data for hun with ID 2216645\n",
      "Gathering Data for monte patria with ID 3879429\n",
      "City Not Found: belogradcik\n",
      "Gathering Data for phan thiet with ID 1571058\n",
      "Gathering Data for asfi with ID 2537881\n",
      "Gathering Data for sabzevar with ID 118063\n",
      "Gathering Data for ako with ID 1865412\n",
      "Gathering Data for husavik with ID 2629833\n",
      "Gathering Data for anori with ID 3665315\n",
      "City Not Found: dujuma\n",
      "Gathering Data for ozinki with ID 513329\n"
     ]
    },
    {
     "name": "stdout",
     "output_type": "stream",
     "text": [
      "City Not Found: barroualie\n",
      "Gathering Data for calabozo with ID 3647444\n",
      "City Not Found: astipalaia\n",
      "Gathering Data for latur with ID 1265014\n",
      "Gathering Data for sao joao dos patos with ID 3388615\n",
      "Gathering Data for comodoro rivadavia with ID 3860443\n",
      "Gathering Data for shitanjing with ID 1794971\n",
      "Gathering Data for yumen with ID 1528998\n",
      "Gathering Data for walvis bay with ID 3359638\n",
      "Gathering Data for baykit with ID 1510689\n",
      "Gathering Data for naze with ID 1855540\n",
      "Gathering Data for pio ix with ID 3392020\n",
      "Gathering Data for wuwei with ID 1803936\n",
      "Gathering Data for udachnyy with ID 2014624\n",
      "Gathering Data for janakpur with ID 1283318\n",
      "Gathering Data for mersing with ID 1732826\n",
      "Gathering Data for faya with ID 110690\n",
      "Gathering Data for christchurch with ID 2192362\n",
      "Gathering Data for uhlove with ID 690820\n",
      "Gathering Data for cayenne with ID 3382160\n",
      "Gathering Data for tazovskiy with ID 1489853\n",
      "Gathering Data for yancheng with ID 1787746\n",
      "Gathering Data for talnakh with ID 1490256\n",
      "Gathering Data for zhigansk with ID 2012530\n",
      "Gathering Data for lompoc with ID 5367788\n",
      "Gathering Data for mananjary with ID 1061335\n",
      "Gathering Data for lodingen with ID 3147102\n",
      "City Not Found: katsiveli\n",
      "Gathering Data for sur with ID 286245\n",
      "Gathering Data for vallenar with ID 3868633\n",
      "Gathering Data for karpogory with ID 552256\n",
      "Gathering Data for kununurra with ID 2068110\n",
      "Gathering Data for jishu with ID 2036418\n",
      "Gathering Data for wajid with ID 50814\n",
      "Gathering Data for coquimbo with ID 3893629\n",
      "Gathering Data for folldal with ID 3156868\n",
      "Gathering Data for warrnambool with ID 2144528\n",
      "Gathering Data for faanui with ID 4034551\n",
      "Gathering Data for vilyuysk with ID 2013392\n",
      "Gathering Data for jucuaran with ID 3585395\n",
      "Gathering Data for sheridan with ID 5838199\n",
      "Gathering Data for bira with ID 2026659\n",
      "City Not Found: umzimvubu\n",
      "Gathering Data for nome with ID 5870133\n",
      "Gathering Data for anloga with ID 2304548\n",
      "Gathering Data for ust-ilimsk with ID 2013952\n",
      "City Not Found: jiddah\n",
      "Gathering Data for illapel with ID 3887344\n",
      "Gathering Data for rincon with ID 4218882\n",
      "City Not Found: kazalinsk\n",
      "Gathering Data for khalkhal with ID 128008\n",
      "Gathering Data for talara with ID 3691582\n",
      "Gathering Data for qiongshan with ID 1797535\n",
      "Gathering Data for davenda with ID 2021980\n",
      "Gathering Data for saint-pierre with ID 935214\n",
      "Gathering Data for atasu with ID 1526041\n",
      "Gathering Data for labuhan with ID 8079926\n",
      "Gathering Data for seymchan with ID 2121373\n",
      "Gathering Data for sterling with ID 4787534\n",
      "Gathering Data for pizarro with ID 3672086\n",
      "Gathering Data for deputatskiy with ID 2028164\n",
      "Gathering Data for luba with ID 2309528\n",
      "City Not Found: sorvag\n",
      "Gathering Data for miri with ID 1738050\n",
      "Gathering Data for natal with ID 3394023\n",
      "Gathering Data for warmbad with ID 3352263\n",
      "Gathering Data for caxito with ID 2242001\n",
      "Gathering Data for terney with ID 2015352\n",
      "City Not Found: grand centre\n",
      "Gathering Data for eaton socon with ID 2650293\n",
      "Gathering Data for madingou with ID 2257990\n",
      "Gathering Data for marawi with ID 1701054\n",
      "City Not Found: zabinka\n",
      "City Not Found: palabuhanratu\n",
      "Gathering Data for hanmer springs with ID 2190299\n",
      "Gathering Data for tarauaca with ID 3661980\n",
      "Gathering Data for atocha with ID 3923570\n",
      "Gathering Data for nizhniy odes with ID 520552\n",
      "Gathering Data for broome with ID 5110365\n",
      "Gathering Data for los llanos de aridane with ID 2514651\n",
      "Gathering Data for lagdo with ID 2229681\n",
      "Gathering Data for trairi with ID 3386177\n",
      "Gathering Data for itarema with ID 3393692\n",
      "Gathering Data for huarmey with ID 3939168\n",
      "Gathering Data for katangli with ID 2122783\n",
      "Gathering Data for straumen with ID 3135728\n",
      "Gathering Data for kiunga with ID 2093846\n",
      "Gathering Data for grindavik with ID 3416888\n",
      "Gathering Data for rockhampton with ID 2151437\n",
      "Gathering Data for port macquarie with ID 2152659\n",
      "Gathering Data for muriti with ID 152497\n",
      "Gathering Data for ola with ID 2122574\n",
      "Gathering Data for yokadouma with ID 2220853\n",
      "Gathering Data for richards bay with ID 962367\n",
      "Gathering Data for sao miguel with ID 3388304\n",
      "Gathering Data for nemuro with ID 2128975\n",
      "Gathering Data for ban dung with ID 1619650\n",
      "Gathering Data for oktyabrskoye with ID 515805\n",
      "Gathering Data for cedro with ID 3402340\n",
      "Gathering Data for vila with ID 7117100\n",
      "Gathering Data for buraydah with ID 107304\n",
      "Gathering Data for mutis with ID 3689325\n",
      "Gathering Data for axim with ID 2303611\n",
      "Gathering Data for fukue with ID 1863997\n",
      "Gathering Data for jacareacanga with ID 3397763\n",
      "Gathering Data for ilovka with ID 556967\n",
      "Gathering Data for fortuna with ID 5563839\n",
      "Gathering Data for valparaiso with ID 3868626\n",
      "Gathering Data for stromness with ID 2636638\n",
      "Gathering Data for isiro with ID 215771\n",
      "City Not Found: formoso do araguaia\n",
      "Gathering Data for dire with ID 2458624\n",
      "Gathering Data for tezu with ID 1254709\n",
      "Gathering Data for toamasina with ID 1053384\n",
      "Gathering Data for sao bento do sul with ID 3449350\n",
      "Gathering Data for asau with ID 686090\n",
      "Gathering Data for ahipara with ID 2194098\n",
      "Gathering Data for mayo with ID 4362001\n",
      "Gathering Data for panguna with ID 2088659\n",
      "Gathering Data for bennettsville with ID 4570634\n",
      "Gathering Data for xingcheng with ID 2033766\n",
      "Gathering Data for roma with ID 5134295\n",
      "Gathering Data for shengjin with ID 3184136\n",
      "Gathering Data for barabinsk with ID 1510916\n",
      "Gathering Data for flinders with ID 6255012\n",
      "Gathering Data for burns lake with ID 5911745\n",
      "Gathering Data for salinas with ID 5391295\n",
      "Gathering Data for maholi with ID 1264356\n",
      "Gathering Data for cockburn town with ID 3576994\n",
      "Gathering Data for kuloy with ID 539385\n",
      "Gathering Data for bukachacha with ID 2026023\n",
      "Gathering Data for solnechnyy with ID 2016307\n",
      "Gathering Data for rudnyy with ID 1519843\n",
      "City Not Found: andevoranto\n",
      "Gathering Data for broken hill with ID 2173911\n",
      "Gathering Data for lar with ID 1265053\n",
      "Gathering Data for cuenca with ID 3658666\n",
      "Gathering Data for gimli with ID 5961417\n",
      "Gathering Data for bahia blanca with ID 3865086\n",
      "Gathering Data for mackay with ID 2159220\n",
      "Gathering Data for obregon with ID 3617723\n",
      "Gathering Data for locri with ID 2524371\n",
      "Gathering Data for rong kwang with ID 1606983\n",
      "City Not Found: tabialan\n",
      "Gathering Data for coffs harbour with ID 2171085\n",
      "Gathering Data for tomari with ID 2120530\n",
      "Gathering Data for karuri with ID 193627\n",
      "Gathering Data for tokur with ID 2015217\n",
      "Gathering Data for choszczno with ID 3101613\n",
      "Gathering Data for tongren with ID 1792592\n",
      "Gathering Data for dalbandin with ID 1180729\n",
      "Gathering Data for loa janan with ID 1637510\n",
      "Gathering Data for serebryanyy bor with ID 2016977\n",
      "Gathering Data for yenagoa with ID 2318123\n",
      "Gathering Data for simoes with ID 3387625\n",
      "Gathering Data for adrar with ID 2381972\n",
      "Gathering Data for tahe with ID 2034615\n",
      "Gathering Data for rorvik with ID 3141310\n",
      "City Not Found: karauzyak\n",
      "Gathering Data for abha with ID 110690\n",
      "Gathering Data for wuning with ID 7071576\n",
      "Gathering Data for khandyga with ID 2022773\n",
      "Gathering Data for namatanai with ID 2090021\n",
      "Gathering Data for kano with ID 2335204\n",
      "Gathering Data for severomorsk with ID 496278\n",
      "Gathering Data for lethbridge with ID 6053154\n",
      "Gathering Data for lichinga with ID 1043893\n",
      "Gathering Data for amahai with ID 1651591\n",
      "Gathering Data for buriti bravo with ID 3404722\n",
      "Gathering Data for southbridge with ID 4951594\n",
      "Gathering Data for canavieiras with ID 3467577\n",
      "Gathering Data for tiznit with ID 2527087\n",
      "Gathering Data for bonga with ID 341742\n",
      "Gathering Data for havre-saint-pierre with ID 5972291\n",
      "Gathering Data for sangar with ID 2017215\n",
      "Gathering Data for alyangula with ID 2079582\n",
      "Gathering Data for ntcheu with ID 924492\n",
      "Gathering Data for muisne with ID 3653967\n",
      "Gathering Data for kloulklubed with ID 7671223\n",
      "Gathering Data for gasa with ID 281133\n",
      "Gathering Data for bucerias with ID 4016734\n",
      "Gathering Data for togitsu with ID 1850269\n",
      "Gathering Data for garceni with ID 677213\n",
      "Gathering Data for crailsheim with ID 2939797\n",
      "Gathering Data for wadi maliz with ID 2464157\n",
      "Gathering Data for medicine hat with ID 6071618\n",
      "Gathering Data for launceston with ID 2160517\n",
      "Gathering Data for puerto escondido with ID 3520994\n",
      "Gathering Data for rezh with ID 1493648\n",
      "Gathering Data for sol-iletsk with ID 491019\n",
      "Gathering Data for atar with ID 2381334\n",
      "Gathering Data for arteaga with ID 4018128\n",
      "Gathering Data for kidal with ID 2455290\n",
      "Gathering Data for sept-iles with ID 6144312\n",
      "Gathering Data for cap-aux-meules with ID 5915327\n"
     ]
    },
    {
     "name": "stdout",
     "output_type": "stream",
     "text": [
      "Gathering Data for colac with ID 2171069\n",
      "Gathering Data for waingapu with ID 1622318\n",
      "Gathering Data for muriwai beach with ID 2186363\n",
      "Gathering Data for aklavik with ID 5882953\n",
      "Gathering Data for vrangel with ID 2013258\n",
      "Gathering Data for latung with ID 1707108\n",
      "Gathering Data for effium with ID 2343985\n",
      "Gathering Data for monroe with ID 5127305\n",
      "Gathering Data for rodos with ID 400666\n",
      "City Not Found: bur gabo\n",
      "Gathering Data for eyl with ID 60019\n",
      "Gathering Data for fairlie with ID 2649738\n",
      "Gathering Data for hay river with ID 5972762\n",
      "Gathering Data for kholtoson with ID 2022369\n",
      "Gathering Data for oksovskiy with ID 515966\n",
      "Gathering Data for riyadh with ID 108410\n",
      "Gathering Data for barentu with ID 342711\n",
      "Gathering Data for de-kastri with ID 2126018\n",
      "Gathering Data for samagaltay with ID 1493155\n",
      "City Not Found: halalo\n",
      "Gathering Data for suntar with ID 2015913\n",
      "City Not Found: warqla\n",
      "Gathering Data for narsaq with ID 3421719\n",
      "Gathering Data for kieta with ID 2094027\n",
      "Gathering Data for ouadda with ID 236901\n",
      "City Not Found: tawkar\n",
      "Gathering Data for oga with ID 3175788\n",
      "Gathering Data for tateyama with ID 1850523\n",
      "Gathering Data for lebanon with ID 4636045\n",
      "Gathering Data for werda with ID 932960\n",
      "City Not Found: lolua\n",
      "Gathering Data for baikunthpur with ID 1277769\n",
      "Gathering Data for bathsheba with ID 3374083\n",
      "Gathering Data for taywarah with ID 1122464\n",
      "Gathering Data for san jose with ID 5392171\n",
      "Gathering Data for lasa with ID 3175096\n",
      "City Not Found: chagda\n",
      "Gathering Data for zyryanka with ID 2119283\n",
      "Gathering Data for hami with ID 1529484\n",
      "Gathering Data for duncan with ID 4535389\n",
      "Gathering Data for nantucket with ID 4944903\n"
     ]
    }
   ],
   "source": [
    "query_url = \"http://api.openweathermap.org/data/2.5/weather?appid=\" + weather_api_key + \"&units=imperial\" + \"&q=\"\n",
    "\n",
    "tempList = []\n",
    "humList = [] \n",
    "cloudList = []\n",
    "latList = []\n",
    "longList = []\n",
    "windList = []\n",
    "countryList = []\n",
    "cityList = []\n",
    "dateList = []\n",
    "\n",
    "\n",
    "for city in cities:\n",
    "    response = requests.get(query_url + city).json()\n",
    "    \n",
    "    try:\n",
    "        print(f'Gathering Data for {city} with ID {response[\"id\"]}')\n",
    "        tempList.append(response[\"main\"][\"temp\"])\n",
    "        humList.append(response[\"main\"][\"humidity\"])\n",
    "        cloudList.append(response[\"clouds\"][\"all\"])\n",
    "        latList.append(response[\"coord\"][\"lat\"])\n",
    "        longList.append(response[\"coord\"][\"lon\"])\n",
    "        windList.append(response[\"wind\"][\"speed\"])\n",
    "        countryList.append(response[\"sys\"][\"country\"])\n",
    "        cityList.append(response[\"name\"])\n",
    "        dateList.append(response[\"dt\"])\n",
    "                           \n",
    "    except KeyError as e:\n",
    "        print(f\"City Not Found: {city}\")\n",
    "    pass\n",
    "\n"
   ]
  },
  {
   "cell_type": "markdown",
   "metadata": {},
   "source": [
    "### Convert Raw Data to DataFrame\n",
    "* Export the city data into a .csv.\n",
    "* Display the DataFrame"
   ]
  },
  {
   "cell_type": "code",
   "execution_count": 18,
   "metadata": {},
   "outputs": [
    {
     "name": "stdout",
     "output_type": "stream",
     "text": [
      "{'base': 'stations',\n",
      " 'clouds': {'all': 90},\n",
      " 'cod': 200,\n",
      " 'coord': {'lat': 42.36, 'lon': -71.06},\n",
      " 'dt': 1591573930,\n",
      " 'id': 4930956,\n",
      " 'main': {'feels_like': 59.58,\n",
      "          'humidity': 82,\n",
      "          'pressure': 1013,\n",
      "          'temp': 60.06,\n",
      "          'temp_max': 63,\n",
      "          'temp_min': 57},\n",
      " 'name': 'Boston',\n",
      " 'sys': {'country': 'US',\n",
      "         'id': 3486,\n",
      "         'sunrise': 1591520869,\n",
      "         'sunset': 1591575532,\n",
      "         'type': 1},\n",
      " 'timezone': -14400,\n",
      " 'visibility': 16093,\n",
      " 'weather': [{'description': 'overcast clouds',\n",
      "              'icon': '04d',\n",
      "              'id': 804,\n",
      "              'main': 'Clouds'}],\n",
      " 'wind': {'deg': 180, 'speed': 3.36}}\n"
     ]
    }
   ],
   "source": [
    "response = requests.get(query_url + \"Boston\").json()\n",
    "pprint(response)"
   ]
  },
  {
   "cell_type": "code",
   "execution_count": 34,
   "metadata": {
    "scrolled": false
   },
   "outputs": [
    {
     "data": {
      "text/html": [
       "<div>\n",
       "<style scoped>\n",
       "    .dataframe tbody tr th:only-of-type {\n",
       "        vertical-align: middle;\n",
       "    }\n",
       "\n",
       "    .dataframe tbody tr th {\n",
       "        vertical-align: top;\n",
       "    }\n",
       "\n",
       "    .dataframe thead th {\n",
       "        text-align: right;\n",
       "    }\n",
       "</style>\n",
       "<table border=\"1\" class=\"dataframe\">\n",
       "  <thead>\n",
       "    <tr style=\"text-align: right;\">\n",
       "      <th></th>\n",
       "      <th>City</th>\n",
       "      <th>Country</th>\n",
       "      <th>Temp</th>\n",
       "      <th>Humidity</th>\n",
       "      <th>Lat</th>\n",
       "      <th>Long</th>\n",
       "      <th>Cloud</th>\n",
       "      <th>Wind</th>\n",
       "      <th>Date</th>\n",
       "    </tr>\n",
       "  </thead>\n",
       "  <tbody>\n",
       "    <tr>\n",
       "      <th>0</th>\n",
       "      <td>Yangi Marg`ilon</td>\n",
       "      <td>UZ</td>\n",
       "      <td>64.40</td>\n",
       "      <td>55</td>\n",
       "      <td>40.43</td>\n",
       "      <td>71.72</td>\n",
       "      <td>40</td>\n",
       "      <td>6.93</td>\n",
       "      <td>1591745862</td>\n",
       "    </tr>\n",
       "    <tr>\n",
       "      <th>1</th>\n",
       "      <td>Touros</td>\n",
       "      <td>BR</td>\n",
       "      <td>75.20</td>\n",
       "      <td>94</td>\n",
       "      <td>-5.20</td>\n",
       "      <td>-35.46</td>\n",
       "      <td>75</td>\n",
       "      <td>11.41</td>\n",
       "      <td>1591745846</td>\n",
       "    </tr>\n",
       "    <tr>\n",
       "      <th>2</th>\n",
       "      <td>Rikitea</td>\n",
       "      <td>PF</td>\n",
       "      <td>76.30</td>\n",
       "      <td>82</td>\n",
       "      <td>-23.12</td>\n",
       "      <td>-134.97</td>\n",
       "      <td>74</td>\n",
       "      <td>10.02</td>\n",
       "      <td>1591745863</td>\n",
       "    </tr>\n",
       "    <tr>\n",
       "      <th>3</th>\n",
       "      <td>Sayán</td>\n",
       "      <td>PE</td>\n",
       "      <td>65.16</td>\n",
       "      <td>60</td>\n",
       "      <td>-11.14</td>\n",
       "      <td>-77.19</td>\n",
       "      <td>5</td>\n",
       "      <td>0.85</td>\n",
       "      <td>1591745863</td>\n",
       "    </tr>\n",
       "    <tr>\n",
       "      <th>4</th>\n",
       "      <td>Guarujá</td>\n",
       "      <td>BR</td>\n",
       "      <td>77.00</td>\n",
       "      <td>91</td>\n",
       "      <td>-23.99</td>\n",
       "      <td>-46.26</td>\n",
       "      <td>73</td>\n",
       "      <td>3.49</td>\n",
       "      <td>1591745863</td>\n",
       "    </tr>\n",
       "    <tr>\n",
       "      <th>...</th>\n",
       "      <td>...</td>\n",
       "      <td>...</td>\n",
       "      <td>...</td>\n",
       "      <td>...</td>\n",
       "      <td>...</td>\n",
       "      <td>...</td>\n",
       "      <td>...</td>\n",
       "      <td>...</td>\n",
       "      <td>...</td>\n",
       "    </tr>\n",
       "    <tr>\n",
       "      <th>495</th>\n",
       "      <td>Dalbandin</td>\n",
       "      <td>PK</td>\n",
       "      <td>80.02</td>\n",
       "      <td>17</td>\n",
       "      <td>28.89</td>\n",
       "      <td>64.41</td>\n",
       "      <td>0</td>\n",
       "      <td>5.91</td>\n",
       "      <td>1591745897</td>\n",
       "    </tr>\n",
       "    <tr>\n",
       "      <th>496</th>\n",
       "      <td>Loa Janan</td>\n",
       "      <td>ID</td>\n",
       "      <td>77.18</td>\n",
       "      <td>96</td>\n",
       "      <td>-0.58</td>\n",
       "      <td>117.09</td>\n",
       "      <td>100</td>\n",
       "      <td>3.89</td>\n",
       "      <td>1591745897</td>\n",
       "    </tr>\n",
       "    <tr>\n",
       "      <th>497</th>\n",
       "      <td>Serebryanyy Bor</td>\n",
       "      <td>RU</td>\n",
       "      <td>51.37</td>\n",
       "      <td>68</td>\n",
       "      <td>56.80</td>\n",
       "      <td>124.80</td>\n",
       "      <td>98</td>\n",
       "      <td>8.19</td>\n",
       "      <td>1591745897</td>\n",
       "    </tr>\n",
       "    <tr>\n",
       "      <th>498</th>\n",
       "      <td>Yenagoa</td>\n",
       "      <td>NG</td>\n",
       "      <td>74.89</td>\n",
       "      <td>93</td>\n",
       "      <td>4.92</td>\n",
       "      <td>6.26</td>\n",
       "      <td>95</td>\n",
       "      <td>2.75</td>\n",
       "      <td>1591745897</td>\n",
       "    </tr>\n",
       "    <tr>\n",
       "      <th>499</th>\n",
       "      <td>Simões</td>\n",
       "      <td>BR</td>\n",
       "      <td>70.93</td>\n",
       "      <td>81</td>\n",
       "      <td>-7.60</td>\n",
       "      <td>-40.82</td>\n",
       "      <td>1</td>\n",
       "      <td>5.82</td>\n",
       "      <td>1591745897</td>\n",
       "    </tr>\n",
       "  </tbody>\n",
       "</table>\n",
       "<p>500 rows × 9 columns</p>\n",
       "</div>"
      ],
      "text/plain": [
       "                City Country   Temp  Humidity    Lat    Long  Cloud   Wind  \\\n",
       "0    Yangi Marg`ilon      UZ  64.40        55  40.43   71.72     40   6.93   \n",
       "1             Touros      BR  75.20        94  -5.20  -35.46     75  11.41   \n",
       "2            Rikitea      PF  76.30        82 -23.12 -134.97     74  10.02   \n",
       "3              Sayán      PE  65.16        60 -11.14  -77.19      5   0.85   \n",
       "4            Guarujá      BR  77.00        91 -23.99  -46.26     73   3.49   \n",
       "..               ...     ...    ...       ...    ...     ...    ...    ...   \n",
       "495        Dalbandin      PK  80.02        17  28.89   64.41      0   5.91   \n",
       "496        Loa Janan      ID  77.18        96  -0.58  117.09    100   3.89   \n",
       "497  Serebryanyy Bor      RU  51.37        68  56.80  124.80     98   8.19   \n",
       "498          Yenagoa      NG  74.89        93   4.92    6.26     95   2.75   \n",
       "499           Simões      BR  70.93        81  -7.60  -40.82      1   5.82   \n",
       "\n",
       "           Date  \n",
       "0    1591745862  \n",
       "1    1591745846  \n",
       "2    1591745863  \n",
       "3    1591745863  \n",
       "4    1591745863  \n",
       "..          ...  \n",
       "495  1591745897  \n",
       "496  1591745897  \n",
       "497  1591745897  \n",
       "498  1591745897  \n",
       "499  1591745897  \n",
       "\n",
       "[500 rows x 9 columns]"
      ]
     },
     "execution_count": 34,
     "metadata": {},
     "output_type": "execute_result"
    }
   ],
   "source": [
    "weather_dict = {\"City\": cityList, \n",
    "                \"Country\": countryList, \n",
    "                \"Temp\": tempList, \n",
    "                \"Humidity\": humList, \n",
    "                \"Lat\": latList, \n",
    "                \"Long\": longList, \n",
    "                \"Cloud\": cloudList, \n",
    "                \"Wind\": windList, \n",
    "                \"Date\": dateList\n",
    "                }\n",
    "weather_df = pd.DataFrame(weather_dict)\n",
    "weather_df.to_csv(\"Output/weather_data.csv\")\n",
    "weather_df.head(500)"
   ]
  },
  {
   "cell_type": "code",
   "execution_count": null,
   "metadata": {},
   "outputs": [],
   "source": []
  },
  {
   "cell_type": "markdown",
   "metadata": {},
   "source": [
    "## Inspect the data and remove the cities where the humidity > 100%.\n",
    "----\n",
    "Skip this step if there are no cities that have humidity > 100%. "
   ]
  },
  {
   "cell_type": "code",
   "execution_count": 9,
   "metadata": {},
   "outputs": [
    {
     "name": "stdout",
     "output_type": "stream",
     "text": [
      "2020-06-08\n"
     ]
    }
   ],
   "source": [
    "\n"
   ]
  },
  {
   "cell_type": "code",
   "execution_count": 36,
   "metadata": {},
   "outputs": [
    {
     "data": {
      "text/html": [
       "<div>\n",
       "<style scoped>\n",
       "    .dataframe tbody tr th:only-of-type {\n",
       "        vertical-align: middle;\n",
       "    }\n",
       "\n",
       "    .dataframe tbody tr th {\n",
       "        vertical-align: top;\n",
       "    }\n",
       "\n",
       "    .dataframe thead th {\n",
       "        text-align: right;\n",
       "    }\n",
       "</style>\n",
       "<table border=\"1\" class=\"dataframe\">\n",
       "  <thead>\n",
       "    <tr style=\"text-align: right;\">\n",
       "      <th></th>\n",
       "      <th>City</th>\n",
       "      <th>Country</th>\n",
       "      <th>Temp</th>\n",
       "      <th>Humidity</th>\n",
       "      <th>Lat</th>\n",
       "      <th>Long</th>\n",
       "      <th>Cloud</th>\n",
       "      <th>Wind</th>\n",
       "      <th>Date</th>\n",
       "    </tr>\n",
       "  </thead>\n",
       "  <tbody>\n",
       "  </tbody>\n",
       "</table>\n",
       "</div>"
      ],
      "text/plain": [
       "Empty DataFrame\n",
       "Columns: [City, Country, Temp, Humidity, Lat, Long, Cloud, Wind, Date]\n",
       "Index: []"
      ]
     },
     "execution_count": 36,
     "metadata": {},
     "output_type": "execute_result"
    }
   ],
   "source": [
    "#  Get the indices of cities that have humidity over 100%.\n",
    "badHumidity = weather_df.loc[weather_df[\"Humidity\"] > 100 ]\n",
    "badHumidity\n"
   ]
  },
  {
   "cell_type": "code",
   "execution_count": null,
   "metadata": {},
   "outputs": [],
   "source": [
    "# Make a new DataFrame equal to the city data to drop all humidity outliers by index.\n",
    "# Passing \"inplace=False\" will make a copy of the city_data DataFrame, which we call \"clean_city_data\".\n"
   ]
  },
  {
   "cell_type": "code",
   "execution_count": null,
   "metadata": {},
   "outputs": [],
   "source": [
    "# Extract relevant fields from the data frame\n",
    "\n",
    "\n",
    "# Export the City_Data into a csv\n"
   ]
  },
  {
   "cell_type": "markdown",
   "metadata": {},
   "source": [
    "## Plotting the Data\n",
    "* Use proper labeling of the plots using plot titles (including date of analysis) and axes labels.\n",
    "* Save the plotted figures as .pngs."
   ]
  },
  {
   "cell_type": "markdown",
   "metadata": {},
   "source": [
    "## Latitude vs. Temperature Plot"
   ]
  },
  {
   "cell_type": "code",
   "execution_count": 20,
   "metadata": {
    "scrolled": true
   },
   "outputs": [
    {
     "data": {
      "image/png": "[encoded data removed]",
      "text/plain": [
       "<Figure size 432x288 with 1 Axes>"
      ]
     },
     "metadata": {
      "needs_background": "light"
     },
     "output_type": "display_data"
    }
   ],
   "source": [
    "plt.scatter(weather_df[\"Lat\"], weather_df[\"Temp\"])\n",
    "plt.xlabel(\"Latitude\")\n",
    "plt.ylabel(\"Temperature (F)\")\n",
    "plt.title(f'Latitude vs Temperature {datetime.now().strftime(\"%Y-%m-%d\")}')\n",
    "plt.show()\n"
   ]
  },
  {
   "cell_type": "markdown",
   "metadata": {},
   "source": [
    "## Latitude vs. Humidity Plot"
   ]
  },
  {
   "cell_type": "code",
   "execution_count": 21,
   "metadata": {},
   "outputs": [
    {
     "ename": "SyntaxError",
     "evalue": "invalid syntax (<ipython-input-21-9744a692b543>, line 4)",
     "output_type": "error",
     "traceback": [
      "\u001b[1;36m  File \u001b[1;32m\"<ipython-input-21-9744a692b543>\"\u001b[1;36m, line \u001b[1;32m4\u001b[0m\n\u001b[1;33m    plt.title(f\"Latitude vs Humidity {datetime.now().strftime(\"%Y-%m-%d\")}\")\u001b[0m\n\u001b[1;37m                                                                  ^\u001b[0m\n\u001b[1;31mSyntaxError\u001b[0m\u001b[1;31m:\u001b[0m invalid syntax\n"
     ]
    }
   ],
   "source": [
    "plt.scatter(weather_df[\"Lat\"], weather_df[\"Humidity\"])\n",
    "plt.xlabel(\"Latitude\")\n",
    "plt.ylabel(\"Humidity\")\n",
    "plt.title(f'Latitude vs Humidity {datetime.now().strftime(\"%Y-%m-%d\")}')\n",
    "plt.show()"
   ]
  },
  {
   "cell_type": "markdown",
   "metadata": {},
   "source": [
    "## Latitude vs. Cloudiness Plot"
   ]
  },
  {
   "cell_type": "code",
   "execution_count": 23,
   "metadata": {},
   "outputs": [
    {
     "data": {
      "image/png": "[encoded data removed]",
      "text/plain": [
       "<Figure size 432x288 with 1 Axes>"
      ]
     },
     "metadata": {
      "needs_background": "light"
     },
     "output_type": "display_data"
    }
   ],
   "source": [
    "plt.scatter(weather_df[\"Lat\"], weather_df[\"Cloud\"])\n",
    "plt.xlabel(\"Latitude\")\n",
    "plt.ylabel(\"Cloudiness\")\n",
    "plt.title(f'Latitude vs Cloudiness {datetime.now().strftime(\"%Y-%m-%d\")}')\n",
    "plt.show()"
   ]
  },
  {
   "cell_type": "markdown",
   "metadata": {},
   "source": [
    "## Latitude vs. Wind Speed Plot"
   ]
  },
  {
   "cell_type": "code",
   "execution_count": 24,
   "metadata": {},
   "outputs": [
    {
     "data": {
      "image/png": "[encoded data removed]",
      "text/plain": [
       "<Figure size 432x288 with 1 Axes>"
      ]
     },
     "metadata": {
      "needs_background": "light"
     },
     "output_type": "display_data"
    }
   ],
   "source": [
    "plt.scatter(weather_df[\"Lat\"], weather_df[\"Wind\"])\n",
    "plt.xlabel(\"Latitude\")\n",
    "plt.ylabel(\"Wind Speed\")\n",
    "plt.title(f'Latitude vs Wind Speed {datetime.now().strftime(\"%Y-%m-%d\")}')\n",
    "plt.show()"
   ]
  },
  {
   "cell_type": "markdown",
   "metadata": {},
   "source": [
    "## Linear Regression"
   ]
  },
  {
   "cell_type": "code",
   "execution_count": 79,
   "metadata": {},
   "outputs": [],
   "source": [
    "# OPTIONAL: Create a function to create Linear Regression plots\n",
    "def plotLinRegress(val1, lat, xlabel, ylabel,title): \n",
    "    (slope, intercept, rvalue, pvalue, stderr) = linregress(val1,lat)\n",
    "    regress_values = val1 * slope + intercept\n",
    "    line_eq = \"y = \" + str(round(slope,2)) + \"x + \" + str(round(intercept,2))\n",
    "    plt.scatter(lat, val1)\n",
    "    plt.plot(val1, regress_values, \"r-\")\n",
    "    plt.xlabel(xlabel)\n",
    "    plt.ylabel(ylabel)\n",
    "    plt.title(title)\n",
    "    plt.show()\n",
    "    \n",
    "\n",
    "    "
   ]
  },
  {
   "cell_type": "code",
   "execution_count": 80,
   "metadata": {},
   "outputs": [
    {
     "data": {
      "text/html": [
       "<div>\n",
       "<style scoped>\n",
       "    .dataframe tbody tr th:only-of-type {\n",
       "        vertical-align: middle;\n",
       "    }\n",
       "\n",
       "    .dataframe tbody tr th {\n",
       "        vertical-align: top;\n",
       "    }\n",
       "\n",
       "    .dataframe thead th {\n",
       "        text-align: right;\n",
       "    }\n",
       "</style>\n",
       "<table border=\"1\" class=\"dataframe\">\n",
       "  <thead>\n",
       "    <tr style=\"text-align: right;\">\n",
       "      <th></th>\n",
       "      <th>City</th>\n",
       "      <th>Country</th>\n",
       "      <th>Temp</th>\n",
       "      <th>Humidity</th>\n",
       "      <th>Lat</th>\n",
       "      <th>Long</th>\n",
       "      <th>Cloud</th>\n",
       "      <th>Wind</th>\n",
       "      <th>Date</th>\n",
       "    </tr>\n",
       "  </thead>\n",
       "  <tbody>\n",
       "    <tr>\n",
       "      <th>1</th>\n",
       "      <td>Touros</td>\n",
       "      <td>BR</td>\n",
       "      <td>75.20</td>\n",
       "      <td>94</td>\n",
       "      <td>-5.20</td>\n",
       "      <td>-35.46</td>\n",
       "      <td>75</td>\n",
       "      <td>11.41</td>\n",
       "      <td>1591745846</td>\n",
       "    </tr>\n",
       "    <tr>\n",
       "      <th>2</th>\n",
       "      <td>Rikitea</td>\n",
       "      <td>PF</td>\n",
       "      <td>76.30</td>\n",
       "      <td>82</td>\n",
       "      <td>-23.12</td>\n",
       "      <td>-134.97</td>\n",
       "      <td>74</td>\n",
       "      <td>10.02</td>\n",
       "      <td>1591745863</td>\n",
       "    </tr>\n",
       "    <tr>\n",
       "      <th>3</th>\n",
       "      <td>Sayán</td>\n",
       "      <td>PE</td>\n",
       "      <td>65.16</td>\n",
       "      <td>60</td>\n",
       "      <td>-11.14</td>\n",
       "      <td>-77.19</td>\n",
       "      <td>5</td>\n",
       "      <td>0.85</td>\n",
       "      <td>1591745863</td>\n",
       "    </tr>\n",
       "    <tr>\n",
       "      <th>4</th>\n",
       "      <td>Guarujá</td>\n",
       "      <td>BR</td>\n",
       "      <td>77.00</td>\n",
       "      <td>91</td>\n",
       "      <td>-23.99</td>\n",
       "      <td>-46.26</td>\n",
       "      <td>73</td>\n",
       "      <td>3.49</td>\n",
       "      <td>1591745863</td>\n",
       "    </tr>\n",
       "    <tr>\n",
       "      <th>6</th>\n",
       "      <td>Puerto Ayora</td>\n",
       "      <td>EC</td>\n",
       "      <td>76.26</td>\n",
       "      <td>54</td>\n",
       "      <td>-0.74</td>\n",
       "      <td>-90.35</td>\n",
       "      <td>40</td>\n",
       "      <td>17.22</td>\n",
       "      <td>1591745863</td>\n",
       "    </tr>\n",
       "    <tr>\n",
       "      <th>...</th>\n",
       "      <td>...</td>\n",
       "      <td>...</td>\n",
       "      <td>...</td>\n",
       "      <td>...</td>\n",
       "      <td>...</td>\n",
       "      <td>...</td>\n",
       "      <td>...</td>\n",
       "      <td>...</td>\n",
       "      <td>...</td>\n",
       "    </tr>\n",
       "    <tr>\n",
       "      <th>539</th>\n",
       "      <td>Colac</td>\n",
       "      <td>AU</td>\n",
       "      <td>43.34</td>\n",
       "      <td>96</td>\n",
       "      <td>-38.33</td>\n",
       "      <td>143.58</td>\n",
       "      <td>64</td>\n",
       "      <td>6.02</td>\n",
       "      <td>1591745901</td>\n",
       "    </tr>\n",
       "    <tr>\n",
       "      <th>540</th>\n",
       "      <td>Waingapu</td>\n",
       "      <td>ID</td>\n",
       "      <td>79.97</td>\n",
       "      <td>78</td>\n",
       "      <td>-9.66</td>\n",
       "      <td>120.26</td>\n",
       "      <td>75</td>\n",
       "      <td>13.91</td>\n",
       "      <td>1591745901</td>\n",
       "    </tr>\n",
       "    <tr>\n",
       "      <th>541</th>\n",
       "      <td>Muriwai Beach</td>\n",
       "      <td>NZ</td>\n",
       "      <td>58.71</td>\n",
       "      <td>82</td>\n",
       "      <td>-36.82</td>\n",
       "      <td>174.45</td>\n",
       "      <td>81</td>\n",
       "      <td>8.14</td>\n",
       "      <td>1591745901</td>\n",
       "    </tr>\n",
       "    <tr>\n",
       "      <th>559</th>\n",
       "      <td>Kieta</td>\n",
       "      <td>PG</td>\n",
       "      <td>86.00</td>\n",
       "      <td>63</td>\n",
       "      <td>-6.22</td>\n",
       "      <td>155.63</td>\n",
       "      <td>89</td>\n",
       "      <td>2.84</td>\n",
       "      <td>1591745902</td>\n",
       "    </tr>\n",
       "    <tr>\n",
       "      <th>564</th>\n",
       "      <td>Werda</td>\n",
       "      <td>BW</td>\n",
       "      <td>57.22</td>\n",
       "      <td>35</td>\n",
       "      <td>-25.27</td>\n",
       "      <td>23.28</td>\n",
       "      <td>0</td>\n",
       "      <td>12.95</td>\n",
       "      <td>1591745903</td>\n",
       "    </tr>\n",
       "  </tbody>\n",
       "</table>\n",
       "<p>182 rows × 9 columns</p>\n",
       "</div>"
      ],
      "text/plain": [
       "              City Country   Temp  Humidity    Lat    Long  Cloud   Wind  \\\n",
       "1           Touros      BR  75.20        94  -5.20  -35.46     75  11.41   \n",
       "2          Rikitea      PF  76.30        82 -23.12 -134.97     74  10.02   \n",
       "3            Sayán      PE  65.16        60 -11.14  -77.19      5   0.85   \n",
       "4          Guarujá      BR  77.00        91 -23.99  -46.26     73   3.49   \n",
       "6     Puerto Ayora      EC  76.26        54  -0.74  -90.35     40  17.22   \n",
       "..             ...     ...    ...       ...    ...     ...    ...    ...   \n",
       "539          Colac      AU  43.34        96 -38.33  143.58     64   6.02   \n",
       "540       Waingapu      ID  79.97        78  -9.66  120.26     75  13.91   \n",
       "541  Muriwai Beach      NZ  58.71        82 -36.82  174.45     81   8.14   \n",
       "559          Kieta      PG  86.00        63  -6.22  155.63     89   2.84   \n",
       "564          Werda      BW  57.22        35 -25.27   23.28      0  12.95   \n",
       "\n",
       "           Date  \n",
       "1    1591745846  \n",
       "2    1591745863  \n",
       "3    1591745863  \n",
       "4    1591745863  \n",
       "6    1591745863  \n",
       "..          ...  \n",
       "539  1591745901  \n",
       "540  1591745901  \n",
       "541  1591745901  \n",
       "559  1591745902  \n",
       "564  1591745903  \n",
       "\n",
       "[182 rows x 9 columns]"
      ]
     },
     "execution_count": 80,
     "metadata": {},
     "output_type": "execute_result"
    }
   ],
   "source": [
    "# Create Northern and Southern Hemisphere DataFrames\n",
    "northernhem_df = weather_df.loc[weather_df[\"Lat\"] > 0]\n",
    "southernhem_df = weather_df.loc[weather_df[\"Lat\"] < 0]\n",
    "#northernhem_df\n",
    "southernhem_df"
   ]
  },
  {
   "cell_type": "markdown",
   "metadata": {},
   "source": [
    "##  Northern Hemisphere - Max Temp vs. Latitude Linear Regression"
   ]
  },
  {
   "cell_type": "code",
   "execution_count": 81,
   "metadata": {},
   "outputs": [
    {
     "data": {
      "image/png": "[encoded data removed]",
      "text/plain": [
       "<Figure size 432x288 with 1 Axes>"
      ]
     },
     "metadata": {
      "needs_background": "light"
     },
     "output_type": "display_data"
    }
   ],
   "source": [
    "xlabel = 'Max Temp'\n",
    "ylabel = \"Latitude\"\n",
    "title = \"Northern Hemisphere - Max Temp vs Latitude Linear Regression\"\n",
    "MaxTemp = northernhem_df[\"Temp\"]\n",
    "Lat = northernhem_df[\"Lat\"]\n",
    "\n",
    "\n",
    "plotLinRegress(MaxTemp, Lat,xlabel,ylabel, title )\n"
   ]
  },
  {
   "cell_type": "markdown",
   "metadata": {},
   "source": [
    "####  Southern Hemisphere - Max Temp vs. Latitude Linear Regression"
   ]
  },
  {
   "cell_type": "code",
   "execution_count": 82,
   "metadata": {},
   "outputs": [
    {
     "data": {
      "image/png": "[encoded data removed]",
      "text/plain": [
       "<Figure size 432x288 with 1 Axes>"
      ]
     },
     "metadata": {
      "needs_background": "light"
     },
     "output_type": "display_data"
    }
   ],
   "source": [
    "ylabel = 'Max Temp'\n",
    "title = \"Southern Hemisphere - Max Temp vs Latitude Linear Regression\"\n",
    "MaxTemp = southernhem_df[\"Temp\"]\n",
    "Lat = southernhem_df[\"Lat\"]\n",
    "\n",
    "\n",
    "plotLinRegress(MaxTemp, Lat,xlabel,ylabel, title )\n"
   ]
  },
  {
   "cell_type": "markdown",
   "metadata": {},
   "source": [
    "####  Northern Hemisphere - Humidity (%) vs. Latitude Linear Regression"
   ]
  },
  {
   "cell_type": "code",
   "execution_count": 83,
   "metadata": {},
   "outputs": [
    {
     "data": {
      "image/png": "[encoded data removed]",
      "text/plain": [
       "<Figure size 432x288 with 1 Axes>"
      ]
     },
     "metadata": {
      "needs_background": "light"
     },
     "output_type": "display_data"
    }
   ],
   "source": [
    "ylabel = 'Humidity (%)'\n",
    "title = \"Northern Hemisphere - Humidity (%) vs Latitue Linear Regression\"\n",
    "Humidity = northernhem_df[\"Humidity\"]\n",
    "Lat = northernhem_df[\"Lat\"]\n",
    "\n",
    "\n",
    "plotLinRegress(Humidity,Lat,xlabel,ylabel, title )"
   ]
  },
  {
   "cell_type": "markdown",
   "metadata": {},
   "source": [
    "####  Southern Hemisphere - Humidity (%) vs. Latitude Linear Regression"
   ]
  },
  {
   "cell_type": "code",
   "execution_count": 84,
   "metadata": {},
   "outputs": [
    {
     "data": {
      "image/png": "[encoded data removed]",
      "text/plain": [
       "<Figure size 432x288 with 1 Axes>"
      ]
     },
     "metadata": {
      "needs_background": "light"
     },
     "output_type": "display_data"
    }
   ],
   "source": [
    "ylabel = 'Humidity (%)'\n",
    "title = \"Southern Hemisphere - Humidity (%) vs Latitue Linear Regression\"\n",
    "Humidity = southernhem_df[\"Humidity\"]\n",
    "Lat = southernhem_df[\"Lat\"]\n",
    "\n",
    "\n",
    "plotLinRegress(Humidity,Lat,xlabel,ylabel, title )"
   ]
  },
  {
   "cell_type": "markdown",
   "metadata": {},
   "source": [
    "####  Northern Hemisphere - Cloudiness (%) vs. Latitude Linear Regression"
   ]
  },
  {
   "cell_type": "code",
   "execution_count": 71,
   "metadata": {},
   "outputs": [
    {
     "data": {
      "image/png": "[encoded data removed]",
      "text/plain": [
       "<Figure size 432x288 with 1 Axes>"
      ]
     },
     "metadata": {
      "needs_background": "light"
     },
     "output_type": "display_data"
    }
   ],
   "source": [
    "ylabel = 'Cloudiness (%)'\n",
    "title = \"Northern Hemisphere - Cloudiness (%) vs Latitue Linear Regression\"\n",
    "Humidity = northernhem_df[\"Humidity\"]\n",
    "Lat = northernhem_df[\"Lat\"]\n",
    "\n",
    "\n",
    "plotLinRegress(Humidity,Lat,xlabel,ylabel, title )"
   ]
  },
  {
   "cell_type": "markdown",
   "metadata": {},
   "source": [
    "####  Southern Hemisphere - Cloudiness (%) vs. Latitude Linear Regression"
   ]
  },
  {
   "cell_type": "code",
   "execution_count": 72,
   "metadata": {},
   "outputs": [
    {
     "data": {
      "image/png": "[encoded data removed]",
      "text/plain": [
       "<Figure size 432x288 with 1 Axes>"
      ]
     },
     "metadata": {
      "needs_background": "light"
     },
     "output_type": "display_data"
    }
   ],
   "source": [
    "ylabel = 'Cloudiness (%)'\n",
    "\n",
    "title = \"Southern Hemisphere - Humidity (%) vs Latitue Linear Regression\"\n",
    "Humidity = southernhem_df[\"Humidity\"]\n",
    "Lat = southernhem_df[\"Lat\"]\n",
    "\n",
    "\n",
    "plotLinRegress(Humidity,Lat,xlabel,ylabel, title )"
   ]
  },
  {
   "cell_type": "markdown",
   "metadata": {},
   "source": [
    "####  Northern Hemisphere - Wind Speed (mph) vs. Latitude Linear Regression"
   ]
  },
  {
   "cell_type": "code",
   "execution_count": 78,
   "metadata": {},
   "outputs": [
    {
     "data": {
      "image/png": "[encoded data removed]",
      "text/plain": [
       "<Figure size 432x288 with 1 Axes>"
      ]
     },
     "metadata": {
      "needs_background": "light"
     },
     "output_type": "display_data"
    }
   ],
   "source": [
    "xlabel = 'Wind (mph)'\n",
    "title = \"Northern Hemisphere - Wind Speed (mph) vs Latitude Linear Regression\"\n",
    "Wind = northernhem_df[\"Wind\"]\n",
    "Lat = northernhem_df[\"Lat\"]\n",
    "\n",
    "\n",
    "plotLinRegress(Wind,Lat,xlabel,ylabel, title )"
   ]
  },
  {
   "cell_type": "markdown",
   "metadata": {},
   "source": [
    "####  Southern Hemisphere - Wind Speed (mph) vs. Latitude Linear Regression"
   ]
  },
  {
   "cell_type": "code",
   "execution_count": 77,
   "metadata": {},
   "outputs": [
    {
     "data": {
      "image/png": "[encoded data removed]",
      "text/plain": [
       "<Figure size 432x288 with 1 Axes>"
      ]
     },
     "metadata": {
      "needs_background": "light"
     },
     "output_type": "display_data"
    }
   ],
   "source": [
    "ylabel = 'Wind (mph)'\n",
    "\n",
    "title = \"Southern Hemisphere - Wind Speed (mph) vs Latitue Linear Regression\"\n",
    "Wind = southernhem_df[\"Wind\"]\n",
    "Lat = southernhem_df[\"Lat\"]\n",
    "\n",
    "\n",
    "plotLinRegress(Wind,Lat,xlabel,ylabel, title )"
   ]
  },
  {
   "cell_type": "code",
   "execution_count": null,
   "metadata": {},
   "outputs": [],
   "source": []
  }
 ],
 "metadata": {
  "anaconda-cloud": {},
  "kernel_info": {
   "name": "python3"
  },
  "kernelspec": {
   "display_name": "Python 3",
   "language": "python",
   "name": "python3"
  },
  "language_info": {
   "codemirror_mode": {
    "name": "ipython",
    "version": 3
   },
   "file_extension": ".py",
   "mimetype": "text/x-python",
   "name": "python",
   "nbconvert_exporter": "python",
   "pygments_lexer": "ipython3",
   "version": "3.7.6"
  },
  "latex_envs": {
   "LaTeX_envs_menu_present": true,
   "autoclose": false,
   "autocomplete": true,
   "bibliofile": "biblio.bib",
   "cite_by": "apalike",
   "current_citInitial": 1,
   "eqLabelWithNumbers": true,
   "eqNumInitial": 1,
   "hotkeys": {
    "equation": "Ctrl-E",
    "itemize": "Ctrl-I"
   },
   "labels_anchors": false,
   "latex_user_defs": false,
   "report_style_numbering": false,
   "user_envs_cfg": false
  },
  "nteract": {
   "version": "0.12.3"
  }
 },
 "nbformat": 4,
 "nbformat_minor": 2
}
